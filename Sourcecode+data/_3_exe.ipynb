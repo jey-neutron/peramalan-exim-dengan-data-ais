{
 "cells": [
  {
   "cell_type": "markdown",
   "metadata": {},
   "source": [
    "# Model Peramalan ANN dan ARIMA\n",
    "Penerapan model peramalan ANN dan ARIMA dalam meramalkan nilai dan volume ekspor impor dengan indikator AIS (sebagai var prediktor)"
   ]
  },
  {
   "cell_type": "code",
   "execution_count": 2,
   "metadata": {},
   "outputs": [],
   "source": [
    "# LIBRARY\n",
    "import pandas as pd                              #data manip\n",
    "import numpy as np                               #array manip\n",
    "import matplotlib.pyplot as plt                  #plot or graphic\n",
    "#import scipy                                     #stats for boxcox transform\n",
    "import warnings                                  #ignore warnings\n",
    "import time                                      #timeee\n",
    "import statsmodels.api as sm                     #model stat\n",
    "import copy                                      #copyyy\n",
    "import itertools                                 #iterasii\n",
    "from statsmodels.tsa.arima.model import ARIMA    #model ARIMA\n",
    "from datetime import datetime                    #datetime type manip\n",
    "from sklearn.metrics import mean_squared_error   #mse n rmse\n",
    "from sklearn.metrics import mean_absolute_error  #mae\n",
    "from statsmodels.tsa.stattools import adfuller   #adfuller cek stationerity\n",
    "from ipynb.fs.defs._2_ANN import *                #import from ANN urself\n",
    "# Init transform scaling\n",
    "#from sklearn.preprocessing import PowerTransformer\n",
    "from sklearn.preprocessing import StandardScaler #scaling with standard dev (standardize)\n",
    "from sklearn.preprocessing import MinMaxScaler   #scaling with min and max  (normalize)\n",
    "#scaler = MinMaxScaler()\n",
    "\n",
    "# set digit behind comma, print only 4\n",
    "%precision 4 \n",
    "pd.set_option(\"display.precision\", 4)\n",
    "# ignore warning\n",
    "warnings.filterwarnings(action='ignore')"
   ]
  },
  {
   "cell_type": "markdown",
   "metadata": {},
   "source": [
    "# Func all"
   ]
  },
  {
   "cell_type": "markdown",
   "metadata": {},
   "source": [
    "## Read data"
   ]
  },
  {
   "cell_type": "code",
   "execution_count": 3,
   "metadata": {},
   "outputs": [],
   "source": [
    "def read_data(kolom, kolomx = 0, pertumbuhan = True, rename = False):\n",
    "    '''\n",
    "    Return dataframe untuk dimasukkan ke model peramalan dengan kolom terpilih sbg var X dan Y\n",
    "    '''\n",
    "    \n",
    "    dataname = 'df_indikatorAIS.csv'\n",
    "    # READ DATA\n",
    "    dfori_ = pd.read_csv(dataname)#.dropna()\n",
    "    cols = [c for c in dfori_.columns if c.lower()[-2:] == 'ct']\n",
    "    dfori_ = dfori_[cols + ['EksporNilai', 'EksporVolume','ImporNilai','ImporVolume']]\n",
    "    dfori_ = dfori_[kolom]\n",
    "\n",
    "    dfori = dfori_.copy()\n",
    "    dforix = pd.Series()\n",
    "    if kolomx != 0:\n",
    "        # Add X\n",
    "        #[['cad_devisa(jutaUSD)','kurs_USD','bi_rate']]\n",
    "        #kolomx = 2\n",
    "        dforix = pd.read_csv('faktorAdd.csv').iloc[:,kolomx]\n",
    "        dfori = pd.concat([dfori_,dforix], axis=1)\n",
    "        dfori = dfori[[c for c in dfori if c not in dfori_.columns[-1]] + [dfori_.columns[-1]]]\n",
    "\n",
    "    # Transform ke pertumbuhan\n",
    "    # Var y ada di kolom berape\n",
    "    #koly = 3\n",
    "    koly = len(kolom)-1\n",
    "    #\n",
    "    if kolomx !=0 : koly+=1\n",
    "    koly2 = koly; t=0\n",
    "\n",
    "    # Transform\n",
    "    df = dfori.copy()\n",
    "    #df = (dfori/dfori.shift(1)*100-100) #transform ke bentuk pertumbuhan or\n",
    "    df = df.diff()/df.shift(1) if pertumbuhan else df #pertumbuhan/return\n",
    "\n",
    "    # Set index -> for (s)arima\n",
    "    df['ds'] = pd.date_range(start='12/1/2018', end='12/1/2020', freq='MS')\n",
    "    df = df.set_index('ds')\n",
    "    #df.index = df.index.to_timestamp() #to_period()\n",
    "    df.rename(columns={dfori.columns[koly]:'y'}, inplace=True)\n",
    "\n",
    "    # Print easying\n",
    "    print('---------------\\n ANDA PAKE DATA ',dfori.columns[koly2].upper())\n",
    "    _ = 'AIS+' if len(kolom)==6 else 'AISf+'\n",
    "    var = _ + str(dforix.name) \n",
    "    if rename: var = var.replace('AISf',rename)\n",
    "    print('VAR: ', var)\n",
    "    print('---------------\\n')\n",
    "    \n",
    "    # Show\n",
    "    print('Kolom y ada di kolom ke-',koly2+1)\n",
    "    df = df.dropna()\n",
    "    print(dfori.columns.to_list())\n",
    "    print(df.columns.to_list())\n",
    "\n",
    "    scaler = StandardScaler()\n",
    "    # DATASET\n",
    "    #df['idx'] = [i for i in range(len(df))]\n",
    "    train_size = 19-t\n",
    "\n",
    "    # SPLIT\n",
    "    train = df.iloc[:train_size,:]#.to_numpy()\n",
    "    test = df.iloc[train_size:,:]#.to_numpy()\n",
    "\n",
    "    x_train, y_train = train.iloc[:,:koly2], train.iloc[:,koly2]\n",
    "    x_test, y_test = test.iloc[:,:koly2], test.iloc[:,koly2]\n",
    "\n",
    "    #adfuller(train.y)[1],adfuller(test.y)[1] #<0.05\n",
    "\n",
    "\n",
    "    # TRANSFORM\n",
    "    # No transform\n",
    "    df2 = df.copy()\n",
    "\n",
    "    # Transform1 xx\n",
    "    #df_log_diff = (df_log - df_log.shift()).dropna() #diff logged\n",
    "    #df2 = df.diff().dropna() #differens\n",
    "    #df2 = np.power(df,3) #pangkat 3\n",
    "    lb = 0.6\n",
    "    if dfori.columns[koly] == 'EksporVolume' :\n",
    "        df2 = np.log(df+lb) #logged -> convert: np.exp(a)-lb\n",
    "    #df2['y'] = np.log(df['y']+lb) #logged -> convert: np.exp(a)-lb\n",
    "\n",
    "    ## Transform1 boxcox \n",
    "    #df2 += lambda_2\n",
    "    #for i in df2.columns:\n",
    "    #    df2[i] = scipy.stats.boxcox(df2[i], lambda_y)#+0.01, lambda_y)\n",
    "        #print(round(lb,2), end='|')\n",
    "    #a,b = scipy.stats.boxcox(df2.y-min(df2.y)+0.01)\n",
    "    #b\n",
    "\n",
    "    # Transform2 scaling\n",
    "    print(scaler.fit(train)) #x_train jika y ga distandardize\n",
    "    df2 = pd.DataFrame(scaler.transform(df2))\n",
    "    #X,Y = df2.iloc[:,:koly2], df2.iloc[:,koly2]\n",
    "    #X = pd.DataFrame(scaler.transform(X))\n",
    "    #df2 = pd.concat([X,Y.reset_index()], axis=1)\n",
    "    df2['ds'] = pd.date_range(start='1/1/2019', end='12/1/2020', freq='MS')[t:]\\\n",
    "        if pertumbuhan else pd.date_range(start='12/1/2018', \n",
    "                                          end='12/1/2020', freq='MS')[t:]\n",
    "    df2 = df2.set_index('ds')\n",
    "    df2.columns = df.columns\n",
    "\n",
    "    ###\n",
    "    #for i in df2.columns:\n",
    "    #    df2[i] = df2[i]/seasonal_decompose(df2[i]).seasonal#df_decompose.seasonal\n",
    "    ###\n",
    "\n",
    "    # pvalue adfuller df2\n",
    "    print('\\nP-value ADF: ',adfuller(df2.y)[1], adfuller(df2.y)[1]<0.05)\n",
    "    #adfuller(df2.T[-1])[1]\n",
    "\n",
    "    # INI BUAT YANG X PREDICT Y\n",
    "    # SPLIT TRAIN TEST\n",
    "    train = df2.iloc[:train_size,:]#.to_numpy()\n",
    "    test = df2.iloc[train_size:,:]#.to_numpy()\n",
    "\n",
    "    x_train, y_train = train.iloc[:,:koly2], train.iloc[:,koly2]\n",
    "    x_test, y_test = test.iloc[:,:koly2], test.iloc[:,koly2]\n",
    "\n",
    "    print('Dimensi df: ', df2.shape)\n",
    "    print('Dimensi train df:', x_train.shape, y_train.shape)\n",
    "    print('Dimensi test df:', x_test.shape, y_test.shape)\n",
    "\n",
    "    return dfori, df2, x_train, x_test, y_train, y_test, koly, koly2, lb, scaler, var"
   ]
  },
  {
   "cell_type": "markdown",
   "metadata": {},
   "source": [
    "## ANN n Random Search"
   ]
  },
  {
   "cell_type": "code",
   "execution_count": 4,
   "metadata": {},
   "outputs": [],
   "source": [
    "def optimize(function, lower_boundary, upper_boundary, max_iter, \n",
    "             x,y,\n",
    "             maximize=False, limit=1e-5):\n",
    "    '''\n",
    "    Tuning random search\n",
    "    Input:\n",
    "    function -- fungsi/model yang ingin dicari best paramnya\n",
    "    lower/upper_boundary -- batas generate nilai random\n",
    "    max_iter -- maks iterasi\n",
    "    maximize -- param yang dicari apakah yang memaksimalkan hasil dari \n",
    "    'function' (T) ato malah yang meminimalkan hasil fungsi (F)\n",
    "    x,y -- data\n",
    "    \n",
    "    Return:\n",
    "    best_fitness -- nilai/hasil dari 'function'\n",
    "    best_solution -- best param hasil random search\n",
    "    '''\n",
    "    start_time=time.time(); df_cost=[]\n",
    "    dimensions = len(lower_boundary)\n",
    "    best_solution = [float()] * dimensions\n",
    "    \n",
    "    # Inisialisasi random gen berisi param dengan batas yang ditentukan\n",
    "    #best_solution = [np.random.uniform(lower_boundary[i], upper_boundary[i]) \n",
    "    #                for i in range(dimensions)]\n",
    "    best_solution = randomize_gen(lower_boundary, upper_boundary)\n",
    "    for _ in range(max_iter):\n",
    "        # Nilai solusi awal\n",
    "        temp1,temp2,solution1 = function(best_solution, x=x, y=y)\n",
    "        cost = solution1\n",
    "        \n",
    "        # Propose solusi baru\n",
    "        new_solution = randomize_gen(lower_boundary, upper_boundary)\n",
    "        #new_solution = [lower_boundary[d] + np.random.random()\n",
    "        #                      *(upper_boundary[d] - lower_boundary[d])\n",
    "        #                               for d in range(dimensions)]\n",
    "        print(new_solution)\n",
    "        #if np.greater_equal(new_solution, lower_boundary).all() and \\\n",
    "        #    np.less_equal(new_solution ,upper_boundary).all():\n",
    "        temp1,temp2,solution2 = function(new_solution, x=x, y=y)\n",
    "        # Jika solusi baru diluar batas boundary, maka set nilai default\n",
    "        #elif maximize:\n",
    "        #    solution2 = -100000.0\n",
    "        #else:\n",
    "        #    solution2 = 100000.0\n",
    "        \n",
    "        # Jika solusi baru lebih baik, maka pilih yang baru\n",
    "        if (solution2 > solution1 and maximize) or \\\n",
    "            (solution2 < solution1 and not maximize):\n",
    "            best_solution = new_solution\n",
    "            cost = solution2\n",
    "        \n",
    "        # Logging\n",
    "        fin_time = time.time()-start_time\n",
    "        #if _%50 == 0: df_cost['iter-'+str(_)] = [cost, fin_time]\n",
    "        df_cost.append([best_solution,cost,fin_time])\n",
    "        clear_output(wait=True)\n",
    "        print('Iteration:', _+1)\n",
    "        print('Cost:', cost)\n",
    "        if cost < limit: #df_cost['iter-'+str(_)] = [cost, fin_time]; \n",
    "            break\n",
    "        #if round(cost,3)==0.000: df_cost['iter-'+str(_)] = [cost, fin_time]; break\n",
    "\n",
    "    #best_fitness = function(best_solution)\n",
    "    #best_fitness = cost\n",
    "    print('Time:', fin_time/60, '\\n---------------')\n",
    "    #print('Best cost:',cost)\n",
    "    df_cost = pd.DataFrame(df_cost, columns=['gen','cost','time'])\n",
    "    param = conv_param(best_solution)\n",
    "    print('Gen:',best_solution)\n",
    "    print('Param:',param)\n",
    "    return best_solution, df_cost\n",
    "\n",
    "def randomize_gen(lower, upper):\n",
    "    low = lower.copy()\n",
    "    up = upper.copy()\n",
    "    # Insert nilai negatif sbg nilai default hidden layer\n",
    "    for i in range(2,up[0]+1):\n",
    "        low.insert(i,-10); up.insert(i,-5) \n",
    "    # Inisialisasi gen\n",
    "    gen = [float()] * len(low) \n",
    "    # Randomize gen\n",
    "    for i in range(len(low)):\n",
    "        gen[i] = np.random.uniform(low[i], up[i]) \n",
    "    # Get jumlah hlayer\n",
    "    hlayer = round(gen[0]) \n",
    "    # Jika >1, maka randomize yang kurang (size neuronnya)\n",
    "    if hlayer != 1: \n",
    "        for j in range(2,hlayer+1):\n",
    "            gen[j] = np.random.uniform(low[1], up[1]) \n",
    "\n",
    "    #random: low[d] + np.random.random()*(up[d] - low[d])\n",
    "    return gen[1:]\n",
    "\n",
    "def ann_function(gen, x, y, param=False):\n",
    "    if not param: param = conv_param(gen)\n",
    "    weight, prediction, cost = nn_model(x.values, y.values, \n",
    "            layer_dims=param['hidden'], \n",
    "            activation_func=param['activation'], \n",
    "            momentum= param['momentum'],\n",
    "            learning_rate= param['learning_rate'] , \n",
    "            epoch=500, print_cost=False,\n",
    "            random_state=42, early_stop=False)\n",
    "    return weight, prediction, cost #(mse ann training data)\n",
    "\n",
    "def permutation_importance(x, y, nama_col, model, dict_param, n=10, cetak=True):\n",
    "    '''permutation importance using RMSE model ANN'''\n",
    "    # Init awal\n",
    "    importances_all = []\n",
    "\n",
    "    # RMSE asli\n",
    "    par_w_act = dict_param.copy()\n",
    "    y_pred = predict(x, par_w_act['weight'], par_w_act['activation'])\n",
    "    #y_pred = model.predict(x)\n",
    "    rmse_asli = mean_squared_error(y, y_pred, squared=False)\n",
    "    \n",
    "    # Ulang sebanyak n kali\n",
    "    for ulang in range(0,n):\n",
    "        # Set seed yang random (fungsi ann sebelumnya menjadikan tidak random .-.)\n",
    "        t = 1000 * time.time() # current time in milliseconds\n",
    "        np.random.seed(int(t) % 2**32)\n",
    "        # Init dalam loop\n",
    "        importances = []\n",
    "        # Loop utk setiap col\n",
    "        for col,i in zip(nama_col, range(len(nama_col))):\n",
    "            # Init dalam loooop\n",
    "            x_shuff = x.copy()\n",
    "            # Shuffle one column\n",
    "            np.random.shuffle(x_shuff.iloc[:,i])\n",
    "            # Rmse after shuffle\n",
    "            #y_pred = model.predict(x_shuff)\n",
    "            y_pred = predict(x_shuff, par_w_act['weight'], par_w_act['activation'])\n",
    "            rmse = mean_squared_error(y, y_pred, squared=False)\n",
    "            # Importances\n",
    "            #imp = (rmse-rmse_asli)/rmse_asli*100\n",
    "            imp = 1-rmse_asli/rmse\n",
    "            importances.append(round(imp, 4))\n",
    "            # End loop per col\n",
    "        importances_all.append(importances)\n",
    "        \n",
    "    # Ngitung rata2 importances yang diulang2 tsb\n",
    "    importances_mean = np.mean(importances_all, axis=0)\n",
    "    # Print grafik\n",
    "    if cetak:\n",
    "        #print(sum(x == x_shuff))\n",
    "        # Plot importances\n",
    "        plt.figure(figsize=(10,4))\n",
    "        plt.bar(nama_col, importances_mean)\n",
    "        plt.yticks(color='grey')\n",
    "        plt.xticks(rotation='vertical', color='grey')\n",
    "        #plt.grid(True)\n",
    "        plt.axhline(y=0)\n",
    "        plt.show()\n",
    "    \n",
    "    return pd.DataFrame({'variabel':nama_col, 'importance':importances_mean})"
   ]
  },
  {
   "cell_type": "markdown",
   "metadata": {},
   "source": [
    "## Convert ke awal / eval peramalan"
   ]
  },
  {
   "cell_type": "code",
   "execution_count": 5,
   "metadata": {},
   "outputs": [],
   "source": [
    "def convert_awal(dfori, df2, x_train, x_test, y_train, y_test, koly, koly2, lb, scaler,\n",
    "                 y_pred, pertumbuhan=True):\n",
    "    '''konversi data transformasi ke awal/sebelum transform'''\n",
    "    train_size=len(x_train)\n",
    "    awal = 1 if pertumbuhan else 0\n",
    "    if len(y_pred) > 6: \n",
    "        asli = dfori.iloc[0+awal:train_size+awal,koly].reset_index(drop=True)/1000000000\n",
    "        df_pred = x_train.copy()\n",
    "    else:\n",
    "        asli = dfori.iloc[train_size+awal:,koly]\\\n",
    "            .reset_index(drop=True)/1000000000\n",
    "        df_pred = x_test.copy()\n",
    "    print(len(asli))\n",
    "    # Unstandardize\n",
    "    df_pred['y_pred'] = y_pred\n",
    "    df_pred = scaler.inverse_transform(df_pred)\n",
    "    #df_pred = df_pred.to_numpy()\n",
    "\n",
    "    # Konvert trans\n",
    "    #prediksi = np.cbrt( df_pred[:,koly] ) #konvert dari transformasi\n",
    "    prediksi_return = df_pred[:,koly2]\n",
    "    if dfori.columns[koly]=='EksporVolume':\n",
    "        prediksi_return = np.exp(prediksi_return)-lb ############################### GANTI OI\n",
    "\n",
    "    # Konvert return\n",
    "    prediksi = []\n",
    "    #prediksi = ((prediksi +100 )/100 * dfori.iloc[18:25,koly].shift().dropna().values) #konvert dari pertumbuhan; excelin bila gacaya\n",
    "    #prediksi = prediksi*dfori_shift+dfori_shift #konvert dari pertumbuhan; excelin bila gacaya\n",
    "    dfori_shift = dfori.iloc[train_size,koly]#:25.shift().dropna().values\n",
    "    ##\n",
    "    if pertumbuhan:\n",
    "        for i in range(len(prediksi_return)):\n",
    "            if i == 0 : c = prediksi_return[i]*dfori_shift + dfori_shift\n",
    "            else : c = prediksi_return[i]*prediksi[i-1] + prediksi[i-1]\n",
    "            prediksi.append(c)\n",
    "    else:\n",
    "        prediksi = prediksi_return\n",
    "    ##\n",
    "    #prediksi = np.power(y_pred*lambda_y + 1 ,1/lambda_y) #konvert dari boxcox\n",
    "    prediksi = np.array(prediksi)/1000000000\n",
    "\n",
    "    print(dfori.columns.to_list())\n",
    "    print('Asli:', asli.values)\n",
    "    print('Prediksi:', prediksi)\n",
    "    \n",
    "    nilai_rmse = mean_squared_error(asli, prediksi, squared=False)\n",
    "    print('RMSE:', mean_squared_error(asli, prediksi, squared=False))\n",
    "    nilai_mape = mape(asli, prediksi)\n",
    "    print('MAPE:', mape(asli, prediksi))\n",
    "    print('MAE:', mean_absolute_error(asli, prediksi))\n",
    "    print('Korelasi:', np.corrcoef(asli, prediksi)[1,0] )\n",
    "\n",
    "    plot([asli, prediksi ], label=['ytrue','ypred'])\n",
    "    \n",
    "    return asli, pd.DataFrame(prediksi), nilai_rmse, nilai_mape, df_pred"
   ]
  },
  {
   "cell_type": "markdown",
   "metadata": {},
   "source": [
    "## Read generated/result data"
   ]
  },
  {
   "cell_type": "code",
   "execution_count": 6,
   "metadata": {},
   "outputs": [],
   "source": [
    "# Styling df\n",
    "def highlight_min(x):    \n",
    "    is_min = x == x.min()\n",
    "    return ['color: red' if cell else '' \n",
    "            for cell in is_min]\n",
    "\n",
    "# Read result data\n",
    "def read_result(data, model, kombs, var=['RMSE train','RMSE test']):    \n",
    "    # Get value from each result data\n",
    "    value = []\n",
    "    for komb in kombs:\n",
    "        d = pd.read_csv(f'OUT/{model}/{data}/result_{data}_{str(komb)}.csv', names = ['idx','value'])\n",
    "        d = d.set_index(['idx'])\n",
    "        value_list = []\n",
    "        for i in var:\n",
    "            value_list.append(d.value[i])\n",
    "        value.append(value_list)\n",
    "    \n",
    "    # Make a df\n",
    "    df_rmse = pd.DataFrame(value, kombs, columns=var)\n",
    "    df_rmse.index.name = model+'_'+data\n",
    "\n",
    "    return df_rmse"
   ]
  },
  {
   "cell_type": "code",
   "execution_count": null,
   "metadata": {},
   "outputs": [],
   "source": []
  },
  {
   "cell_type": "markdown",
   "metadata": {},
   "source": [
    "# Runnnn"
   ]
  },
  {
   "cell_type": "markdown",
   "metadata": {},
   "source": [
    "## Get data"
   ]
  },
  {
   "cell_type": "code",
   "execution_count": 46,
   "metadata": {
    "scrolled": false
   },
   "outputs": [
    {
     "name": "stdout",
     "output_type": "stream",
     "text": [
      "---------------\n",
      " ANDA PAKE DATA  IMPORVOLUME\n",
      "VAR:  AISf+None\n",
      "---------------\n",
      "\n",
      "Kolom y ada di kolom ke- 3\n",
      "['numVisit_CT', 'numVessel_CT', 'ImporVolume']\n",
      "['numVisit_CT', 'numVessel_CT', 'y']\n",
      "StandardScaler()\n",
      "\n",
      "P-value ADF:  1.0010668760335764e-05 True\n",
      "Dimensi df:  (24, 3)\n",
      "Dimensi train df: (19, 2) (19,)\n",
      "Dimensi test df: (5, 2) (5,)\n"
     ]
    }
   ],
   "source": [
    "# ann: permutation (AISf), st: stepwise (AISr), ar: signifikan arima (AISs), corr: correlation (AISc)\n",
    "# Ekspor nilai\n",
    "kolom = ['numVisit_CT','numVessel_CT','timeInPort_CT','sumDraughtDiff_pos_CT','numDraughtDiff_pos_CT','EksporNilai']\n",
    "#kolom = ['numVessel_CT','sumDraughtDiff_pos_CT','EksporNilai'] #ann\n",
    "#kolom = ['numVisit_CT','EksporNilai'] #st\n",
    "#kolom = ['numVisit_CT','numVessel_CT','timeInPort_CT','EksporNilai'] #ar\n",
    "#kolom = ['numVisit_CT','numVessel_CT','sumDraughtDiff_pos_CT','numDraughtDiff_pos_CT','EksporNilai'] #corr>.25\n",
    "# Ekspor volume\n",
    "kolom = ['numVisit_CT','numVessel_CT','timeInPort_CT','sumDraughtDiff_pos_CT','numDraughtDiff_pos_CT','EksporVolume']\n",
    "#kolom = ['numVisit_CT','numVessel_CT','sumDraughtDiff_pos_CT','numDraughtDiff_pos_CT','EksporVolume'] #ann\n",
    "#kolom = ['numVessel_CT','EksporVolume'] #st\n",
    "#kolom = ['numVisit_CT','EksporVolume'] #ar\n",
    "#kolom = ['numVisit_CT','numVessel_CT','timeInPort_CT','numDraughtDiff_pos_CT','EksporVolume'] #corr>.25\n",
    "# Impor nilai\n",
    "kolom = ['numVisit_CT','numVessel_CT','timeInPort_CT','sumDraughtDiff_neg_CT','numDraughtDiff_neg_CT','ImporNilai']\n",
    "#kolom = ['numVessel_CT','timeInPort_CT','sumDraughtDiff_neg_CT','ImporNilai'] #ann\n",
    "#kolom = ['numVessel_CT','ImporNilai'] #st\n",
    "#kolom = ['numVisit_CT','timeInPort_CT','ImporNilai'] #ar\n",
    "#kolom = ['numVisit_CT','numVessel_CT','numDraughtDiff_neg_CT','ImporNilai'] #corr>.25\n",
    "# Impor volume\n",
    "#kolom = ['numVisit_CT','numVessel_CT','timeInPort_CT','sumDraughtDiff_neg_CT','numDraughtDiff_neg_CT','ImporVolume']\n",
    "#kolom = ['timeInPort_CT','ImporVolume'] #ann\n",
    "#kolom = ['numVisit_CT','ImporVolume'] #st\n",
    "#kolom = ['numVisit_CT','ImporVolume'] #ar\n",
    "kolom = ['numVisit_CT','numVessel_CT','ImporVolume'] #corr>.25\n",
    "\n",
    "#0: nothing; 2: kurs; 3: bi rate\n",
    "kolomx = 0\n",
    "pert = True\n",
    "rename = False#'AISr'\n",
    "\n",
    "# READ DATA\n",
    "dfori, df2, x_train, x_test, y_train, y_test, \\\n",
    "koly, koly2, lb, scaler, var = read_data(kolom, kolomx, pert, rename)\n",
    "train = df2.iloc[:len(x_train),:]#.to_numpy()\n",
    "test = df2.iloc[len(x_train):,:]#.to_numpy()"
   ]
  },
  {
   "cell_type": "markdown",
   "metadata": {},
   "source": [
    "## ARIMAX"
   ]
  },
  {
   "cell_type": "markdown",
   "metadata": {},
   "source": [
    "Meregresikan var X dan Y (dengan OLS) dan ambil resid"
   ]
  },
  {
   "cell_type": "code",
   "execution_count": 7,
   "metadata": {
    "scrolled": false
   },
   "outputs": [
    {
     "name": "stdout",
     "output_type": "stream",
     "text": [
      "ds\n",
      "2019-01-01   -0.8643\n",
      "2019-02-01   -0.8158\n",
      "dtype: float64\n"
     ]
    },
    {
     "data": {
      "text/html": [
       "<table class=\"simpletable\">\n",
       "<caption>OLS Regression Results</caption>\n",
       "<tr>\n",
       "  <th>Dep. Variable:</th>            <td>y</td>        <th>  R-squared:         </th> <td>   0.116</td>\n",
       "</tr>\n",
       "<tr>\n",
       "  <th>Model:</th>                   <td>OLS</td>       <th>  Adj. R-squared:    </th> <td>  -0.017</td>\n",
       "</tr>\n",
       "<tr>\n",
       "  <th>Method:</th>             <td>Least Squares</td>  <th>  F-statistic:       </th> <td>  0.8738</td>\n",
       "</tr>\n",
       "<tr>\n",
       "  <th>Date:</th>             <td>Wed, 23 Jun 2021</td> <th>  Prob (F-statistic):</th>  <td> 0.471</td> \n",
       "</tr>\n",
       "<tr>\n",
       "  <th>Time:</th>                 <td>17:00:36</td>     <th>  Log-Likelihood:    </th> <td> -31.178</td>\n",
       "</tr>\n",
       "<tr>\n",
       "  <th>No. Observations:</th>      <td>    24</td>      <th>  AIC:               </th> <td>   70.36</td>\n",
       "</tr>\n",
       "<tr>\n",
       "  <th>Df Residuals:</th>          <td>    20</td>      <th>  BIC:               </th> <td>   75.07</td>\n",
       "</tr>\n",
       "<tr>\n",
       "  <th>Df Model:</th>              <td>     3</td>      <th>                     </th>     <td> </td>   \n",
       "</tr>\n",
       "<tr>\n",
       "  <th>Covariance Type:</th>      <td>nonrobust</td>    <th>                     </th>     <td> </td>   \n",
       "</tr>\n",
       "</table>\n",
       "<table class=\"simpletable\">\n",
       "<tr>\n",
       "            <td></td>               <th>coef</th>     <th>std err</th>      <th>t</th>      <th>P>|t|</th>  <th>[0.025</th>    <th>0.975]</th>  \n",
       "</tr>\n",
       "<tr>\n",
       "  <th>const</th>                 <td>    0.1282</td> <td>    0.199</td> <td>    0.643</td> <td> 0.528</td> <td>   -0.288</td> <td>    0.544</td>\n",
       "</tr>\n",
       "<tr>\n",
       "  <th>numVisit_CT</th>           <td>    0.0629</td> <td>    0.296</td> <td>    0.212</td> <td> 0.834</td> <td>   -0.555</td> <td>    0.681</td>\n",
       "</tr>\n",
       "<tr>\n",
       "  <th>numVessel_CT</th>          <td>    0.1928</td> <td>    0.292</td> <td>    0.661</td> <td> 0.516</td> <td>   -0.416</td> <td>    0.801</td>\n",
       "</tr>\n",
       "<tr>\n",
       "  <th>numDraughtDiff_neg_CT</th> <td>    0.1539</td> <td>    0.274</td> <td>    0.563</td> <td> 0.580</td> <td>   -0.417</td> <td>    0.725</td>\n",
       "</tr>\n",
       "</table>\n",
       "<table class=\"simpletable\">\n",
       "<tr>\n",
       "  <th>Omnibus:</th>       <td> 0.329</td> <th>  Durbin-Watson:     </th> <td>   2.583</td>\n",
       "</tr>\n",
       "<tr>\n",
       "  <th>Prob(Omnibus):</th> <td> 0.848</td> <th>  Jarque-Bera (JB):  </th> <td>   0.431</td>\n",
       "</tr>\n",
       "<tr>\n",
       "  <th>Skew:</th>          <td> 0.235</td> <th>  Prob(JB):          </th> <td>   0.806</td>\n",
       "</tr>\n",
       "<tr>\n",
       "  <th>Kurtosis:</th>      <td> 2.542</td> <th>  Cond. No.          </th> <td>    2.59</td>\n",
       "</tr>\n",
       "</table><br/><br/>Notes:<br/>[1] Standard Errors assume that the covariance matrix of the errors is correctly specified."
      ],
      "text/plain": [
       "<class 'statsmodels.iolib.summary.Summary'>\n",
       "\"\"\"\n",
       "                            OLS Regression Results                            \n",
       "==============================================================================\n",
       "Dep. Variable:                      y   R-squared:                       0.116\n",
       "Model:                            OLS   Adj. R-squared:                 -0.017\n",
       "Method:                 Least Squares   F-statistic:                    0.8738\n",
       "Date:                Wed, 23 Jun 2021   Prob (F-statistic):              0.471\n",
       "Time:                        17:00:36   Log-Likelihood:                -31.178\n",
       "No. Observations:                  24   AIC:                             70.36\n",
       "Df Residuals:                      20   BIC:                             75.07\n",
       "Df Model:                           3                                         \n",
       "Covariance Type:            nonrobust                                         \n",
       "=========================================================================================\n",
       "                            coef    std err          t      P>|t|      [0.025      0.975]\n",
       "-----------------------------------------------------------------------------------------\n",
       "const                     0.1282      0.199      0.643      0.528      -0.288       0.544\n",
       "numVisit_CT               0.0629      0.296      0.212      0.834      -0.555       0.681\n",
       "numVessel_CT              0.1928      0.292      0.661      0.516      -0.416       0.801\n",
       "numDraughtDiff_neg_CT     0.1539      0.274      0.563      0.580      -0.417       0.725\n",
       "==============================================================================\n",
       "Omnibus:                        0.329   Durbin-Watson:                   2.583\n",
       "Prob(Omnibus):                  0.848   Jarque-Bera (JB):                0.431\n",
       "Skew:                           0.235   Prob(JB):                        0.806\n",
       "Kurtosis:                       2.542   Cond. No.                         2.59\n",
       "==============================================================================\n",
       "\n",
       "Notes:\n",
       "[1] Standard Errors assume that the covariance matrix of the errors is correctly specified.\n",
       "\"\"\""
      ]
     },
     "execution_count": 7,
     "metadata": {},
     "output_type": "execute_result"
    }
   ],
   "source": [
    "pval = 0.05\n",
    "# OLS regresi\n",
    "X = sm.add_constant(df2.iloc[:,:koly2])#\\\n",
    "    #.drop(['numDraughtDiff_pos','numDraughtDiff_neg_CT',\n",
    "    #      'timeInPort','sumDraughtDiff_neg_CT','numVessel_CT',\n",
    "    #      #'sumDraughtDiff_pos'\n",
    "    #      ], axis=1)\n",
    "reg = sm.OLS(df2.iloc[:,koly2],X).fit()\n",
    "resid = reg.resid\n",
    "print(resid.head(2))\n",
    "reg.summary()"
   ]
  },
  {
   "cell_type": "markdown",
   "metadata": {},
   "source": [
    "Plot ACF dan PACF pada resid utk mengetahui p dan q ARIMA"
   ]
  },
  {
   "cell_type": "code",
   "execution_count": 8,
   "metadata": {
    "scrolled": false
   },
   "outputs": [
    {
     "name": "stdout",
     "output_type": "stream",
     "text": [
      "Plot (P)ACF data residual regresi\n",
      "ACF -> MA\n",
      "PACF -> AR\n"
     ]
    },
    {
     "data": {
      "image/png": "[encoded data removed]",
      "text/plain": [
       "<Figure size 432x288 with 1 Axes>"
      ]
     },
     "metadata": {
      "needs_background": "light"
     },
     "output_type": "display_data"
    },
    {
     "data": {
      "image/png": "[encoded data removed]",
      "text/plain": [
       "<Figure size 432x288 with 1 Axes>"
      ]
     },
     "metadata": {
      "needs_background": "light"
     },
     "output_type": "display_data"
    }
   ],
   "source": [
    "# Korelogram resid\n",
    "from statsmodels.graphics.tsaplots import plot_acf\n",
    "from statsmodels.graphics.tsaplots import plot_pacf\n",
    "print('Plot (P)ACF data residual regresi')\n",
    "print('ACF -> MA')\n",
    "a = plot_acf(resid, lags=11)\n",
    "print('PACF -> AR')\n",
    "b = plot_pacf(resid, lags=11)"
   ]
  },
  {
   "cell_type": "markdown",
   "metadata": {},
   "source": [
    "Pilih kombinasi p dan q ARIMA yang terbaik "
   ]
  },
  {
   "cell_type": "code",
   "execution_count": 100,
   "metadata": {
    "scrolled": false
   },
   "outputs": [
    {
     "name": "stdout",
     "output_type": "stream",
     "text": [
      "p: 0 | q: 0 | sig: 2 var | sig AIS: 1 | bic: 55.589246282764314\n",
      "p: 0 | q: 1 | sig: 2 var | sig AIS: 1 | bic: 46.387584674193015\n",
      "p: 0 | q: 2 | sig: 2 var | sig AIS: 1 | bic: 48.85942603705606\n",
      "p: 1 | q: 0 | sig: 3 var | sig AIS: 1 | bic: 52.60343643434416\n",
      "p: 1 | q: 1 | sig: 2 var | sig AIS: 1 | bic: 49.00282916624941\n",
      "p: 1 | q: 2 | sig: 2 var | sig AIS: 1 | bic: 51.70152409534799\n",
      "p: 2 | q: 0 | sig: 1 var | sig AIS: 0 | bic: 55.263076563150044\n",
      "p: 2 | q: 1 | sig: 2 var | sig AIS: 1 | bic: 51.83509629688807\n",
      "p: 2 | q: 2 | sig: 2 var | sig AIS: 1 | bic: 54.639394063338045\n",
      "ARMA: 0,1 \n",
      "BIC: 46.387584674193015\n"
     ]
    }
   ],
   "source": [
    "# choose p,q from iteration combination\n",
    "iterSeries = pd.Series()\n",
    "for i in itertools.product([0,1,2], repeat=2):\n",
    "    model = ARIMA(train.y, order=(i[0],0,i[1]), freq='MS',\n",
    "                  exog = train.iloc[:,:koly2]).fit()\n",
    "    #count\n",
    "    varsig = model.pvalues[model.pvalues <= pval].index.values\n",
    "    c = 0\n",
    "    for a in varsig:\n",
    "        for b in dfori.columns:\n",
    "            if a==b: c+=1\n",
    "\n",
    "    #logging\n",
    "    print(f'p: {i[0]} | q: {i[1]} | \\\n",
    "sig: {len(varsig)} var | \\\n",
    "sig AIS: {c} | \\\n",
    "bic: {model.bic}')\n",
    "    iterSeries = iterSeries.append( pd.Series(model.bic, index=[str(i[0])+','+str(i[1])]) )\n",
    "    \n",
    "print('ARMA:', iterSeries.idxmin(),'\\nBIC:' ,iterSeries.min())"
   ]
  },
  {
   "cell_type": "markdown",
   "metadata": {},
   "source": [
    "Pemodelan ARIMAX"
   ]
  },
  {
   "cell_type": "code",
   "execution_count": 28,
   "metadata": {},
   "outputs": [
    {
     "name": "stdout",
     "output_type": "stream",
     "text": [
      "                               SARIMAX Results                                \n",
      "==============================================================================\n",
      "Dep. Variable:                      y   No. Observations:                   19\n",
      "Model:                 ARIMA(2, 0, 2)   Log Likelihood                 -22.708\n",
      "Date:                Tue, 06 Jul 2021   AIC                             65.417\n",
      "Time:                        16:18:26   BIC                             74.861\n",
      "Sample:                    01-01-2019   HQIC                            67.015\n",
      "                         - 07-01-2020                                         \n",
      "Covariance Type:                  opg                                         \n",
      "=========================================================================================\n",
      "                            coef    std err          z      P>|z|      [0.025      0.975]\n",
      "-----------------------------------------------------------------------------------------\n",
      "const                    -3.5620      2.993     -1.190      0.234      -9.428       2.304\n",
      "numVisit_CT               0.8086      0.268      3.012      0.003       0.282       1.335\n",
      "numVessel_CT             -0.2372      0.274     -0.866      0.387      -0.774       0.300\n",
      "timeInPort_CT            -0.0096      0.223     -0.043      0.966      -0.447       0.428\n",
      "numDraughtDiff_pos_CT     0.0885      0.290      0.305      0.761      -0.481       0.658\n",
      "ar.L1                    -1.0994      0.309     -3.556      0.000      -1.705      -0.493\n",
      "ar.L2                    -0.8470      0.406     -2.089      0.037      -1.642      -0.052\n",
      "ma.L1                     0.4441      2.485      0.179      0.858      -4.426       5.314\n",
      "ma.L2                     0.9818      9.649      0.102      0.919     -17.930      19.894\n",
      "sigma2                    0.4701      4.260      0.110      0.912      -7.880       8.820\n",
      "===================================================================================\n",
      "Ljung-Box (L1) (Q):                   0.35   Jarque-Bera (JB):                 0.35\n",
      "Prob(Q):                              0.56   Prob(JB):                         0.84\n",
      "Heteroskedasticity (H):               0.53   Skew:                             0.26\n",
      "Prob(H) (two-sided):                  0.46   Kurtosis:                         2.59\n",
      "===================================================================================\n",
      "\n",
      "Warnings:\n",
      "[1] Covariance matrix calculated using the outer product of gradients (complex-step).\n"
     ]
    }
   ],
   "source": [
    "#p AR; q MA\n",
    "p = 2\n",
    "q = 2\n",
    "# MODELLING ARIMAX\n",
    "#(endog, order, exog=None, dates=None, freq=None, missing='none')\n",
    "model = ARIMA(train.y, order=(p,0,q),\n",
    "              freq = 'MS', exog=train.iloc[:,:koly2])\n",
    "# fit\n",
    "model_fit = model.fit()\n",
    "# summary\n",
    "print(model_fit.summary())\n",
    "# pred\n",
    "pred_train = model_fit.predict(start = train.index[0], end = train.index[-1], \n",
    "                           exog=train.iloc[:,:koly]).values\n",
    "y_pred = model_fit.predict(start = test.index[0], end = test.index[-1], \n",
    "                           #params=model_fit.params, \n",
    "                           exog=test.iloc[:,:koly2]).values"
   ]
  },
  {
   "cell_type": "markdown",
   "metadata": {},
   "source": [
    "Uji diagnostik model ARIMAX yang terbentuk"
   ]
  },
  {
   "cell_type": "code",
   "execution_count": 34,
   "metadata": {
    "scrolled": true
   },
   "outputs": [
    {
     "data": {
      "image/png": "[encoded data removed]",
      "text/plain": [
       "<Figure size 432x288 with 4 Axes>"
      ]
     },
     "metadata": {
      "needs_background": "light"
     },
     "output_type": "display_data"
    }
   ],
   "source": [
    "c = model_fit.plot_diagnostics()"
   ]
  },
  {
   "cell_type": "code",
   "execution_count": null,
   "metadata": {},
   "outputs": [],
   "source": []
  },
  {
   "cell_type": "markdown",
   "metadata": {},
   "source": [
    "## ANN rs"
   ]
  },
  {
   "cell_type": "code",
   "execution_count": null,
   "metadata": {},
   "outputs": [],
   "source": [
    "i = 100\n",
    "low = [1,1  ,0.00, 0.0, 0.0] \n",
    "up  = [4,100,4.99, 1.0, 1.0]\n",
    "limit = False#1e-99\n",
    "\n",
    "# run random search\n",
    "gen,df_cost = optimize(function=ann_function, lower_boundary=low, upper_boundary= up,\n",
    "                       limit = limit, \n",
    "                       x=x_train, y=y_train,                \n",
    "                       max_iter=i, maximize=False) #karna mse maka minimize (mencari mse terkecil)\n",
    "print(df_cost.tail())\n",
    "# param terbaik (diconvert dari gen terbaik)\n",
    "param = conv_param(gen)\n",
    "# train model ann\n",
    "w, pred_train, cost = ann_function(gen,x=x_train, y=y_train)\n",
    "# prediksi x_test dg model ann\n",
    "y_pred = np.squeeze(predict(x_test.values, w, param['activation']))\n",
    "print('Pred test:',y_pred)\n",
    "\n",
    "# Permutation importance\n",
    "dict_param = {'weight':w, 'activation':param['activation']}\n",
    "imp = permutation_importance(x_test, y_test, df2.columns[:-1], \n",
    "                             model=nn_model, dict_param=dict_param, n=50)\n",
    "#imp = permutation_importance(x_train, y_train, df2.columns[:-1], model=gann)\n",
    "# Nilai importance\n",
    "#imp\n",
    "df_cost.cost.plot(figsize=(10,3))"
   ]
  },
  {
   "cell_type": "markdown",
   "metadata": {},
   "source": [
    "Indikator AIS yang memiliki importance value > 0"
   ]
  },
  {
   "cell_type": "code",
   "execution_count": 168,
   "metadata": {
    "scrolled": false
   },
   "outputs": [
    {
     "data": {
      "text/plain": [
       "array([['numVisit_CT', 0.0027439999999999977],\n",
       "       ['numVessel_CT', 0.055245999999999996],\n",
       "       ['timeInPort_CT', 0.010310000000000003],\n",
       "       ['numDraughtDiff_pos_CT', 0.0046840000000000015]], dtype=object)"
      ]
     },
     "execution_count": 168,
     "metadata": {},
     "output_type": "execute_result"
    }
   ],
   "source": [
    "imp[imp.importance > 0].values"
   ]
  },
  {
   "cell_type": "markdown",
   "metadata": {},
   "source": [
    "# Eval peramalan"
   ]
  },
  {
   "cell_type": "code",
   "execution_count": 47,
   "metadata": {
    "scrolled": false
   },
   "outputs": [
    {
     "name": "stdout",
     "output_type": "stream",
     "text": [
      "--Prediksi DATA TRAIN-----\n",
      "RMSE: 0.41119503320314976\n",
      "MAPE: 103.00367832542752\n",
      "MAE: 0.31802925908760654\n",
      "Korelasi: 0.915093924391458\n"
     ]
    },
    {
     "data": {
      "image/png": "[encoded data removed]",
      "text/plain": [
       "<Figure size 720x216 with 1 Axes>"
      ]
     },
     "metadata": {
      "needs_background": "dark"
     },
     "output_type": "display_data"
    },
    {
     "name": "stdout",
     "output_type": "stream",
     "text": [
      "--Prediksi DATA TEST-----\n",
      "RMSE: 1.0004328652483312\n",
      "MAPE: 126.16734610233051\n",
      "MAE: 0.7004973287166244\n",
      "Korelasi: 0.4105769004300441\n",
      "[ 0.5324  0.8756 -1.0661  1.2061 -1.1529]\n"
     ]
    },
    {
     "data": {
      "image/png": "[encoded data removed]",
      "text/plain": [
       "<Figure size 720x216 with 1 Axes>"
      ]
     },
     "metadata": {
      "needs_background": "dark"
     },
     "output_type": "display_data"
    }
   ],
   "source": [
    "# DATA TRAIN\n",
    "print('--Prediksi DATA TRAIN-----')\n",
    "yptrain = np.squeeze(pred_train)#ann.predict(x_train)\n",
    "yttrain = y_train.values\n",
    "print('RMSE:', mean_squared_error(yttrain, yptrain, squared=False))\n",
    "print('MAPE:', mape(yttrain, yptrain))\n",
    "print('MAE:', mean_absolute_error(yttrain, yptrain))\n",
    "print('Korelasi:', np.corrcoef(yttrain, yptrain)[1,0] )\n",
    "plot([yttrain, yptrain], label=['ytrain','ypred'])\n",
    "\n",
    "# DATA TEST\n",
    "print('--Prediksi DATA TEST-----')\n",
    "#yptest = np.squeeze(predict(x_test.values, w, param['activation']))\n",
    "yptest = y_pred\n",
    "yttest = y_test.values\n",
    "print('RMSE:', mean_squared_error(yttest, yptest, squared=False))\n",
    "print('MAPE:', mape(yttest, yptest))\n",
    "print('MAE:', mean_absolute_error(yttest, yptest))\n",
    "print('Korelasi:', np.corrcoef(yttest, yptest)[1,0] )\n",
    "print(yptest)\n",
    "plot([yttest, yptest], label=['ytest','ypred'])"
   ]
  },
  {
   "cell_type": "markdown",
   "metadata": {},
   "source": [
    "# Convert awal\n",
    "Konversi hasil peramalan ke sebelum transformasi data"
   ]
  },
  {
   "cell_type": "code",
   "execution_count": 32,
   "metadata": {
    "scrolled": false
   },
   "outputs": [
    {
     "name": "stdout",
     "output_type": "stream",
     "text": [
      "19\n",
      "['numVisit_CT', 'EksporVolume']\n",
      "Asli: [55.1537 48.7145 57.5263 52.3653 57.68   46.4976 56.4081 52.3853 54.5882\n",
      " 61.413  56.0222 55.7201 50.9254 49.6726 54.1281 45.1937 42.3176 46.4941\n",
      " 46.3949]\n",
      "Prediksi: [48.5844 47.9815 50.3866 49.7564 53.6559 48.0358 53.3825 53.5254 54.266\n",
      " 56.5189 62.5929 60.3494 62.7305 63.8397 66.0354 60.6179 60.067  59.6075\n",
      " 65.9212]\n",
      "RMSE: 9.752687196667187\n",
      "MAPE: 15.64707170670458\n",
      "MAE: 7.730942909052172\n",
      "Korelasi: -0.21269270392096462\n"
     ]
    },
    {
     "data": {
      "image/png": "[encoded data removed]",
      "text/plain": [
       "<Figure size 720x216 with 1 Axes>"
      ]
     },
     "metadata": {
      "needs_background": "dark"
     },
     "output_type": "display_data"
    },
    {
     "name": "stdout",
     "output_type": "stream",
     "text": [
      "5\n",
      "['numVisit_CT', 'EksporVolume']\n",
      "Asli: [43.5797 43.9441 47.2177 53.2825 57.324 ]\n",
      "Prediksi: [47.5719 45.504  49.5569 49.7797 47.5048]\n",
      "RMSE: 5.148386844484486\n",
      "MAPE: 8.273580851324116\n",
      "MAE: 4.2426667217893215\n",
      "Korelasi: 0.370908806675013\n"
     ]
    },
    {
     "data": {
      "image/png": "[encoded data removed]",
      "text/plain": [
       "<Figure size 720x216 with 1 Axes>"
      ]
     },
     "metadata": {
      "needs_background": "dark"
     },
     "output_type": "display_data"
    }
   ],
   "source": [
    "# convert ke awal\n",
    "# train\n",
    "asliTr,prediksiTr,\\\n",
    "nilaiRmseTr, nilaiMapeTr, dftr_pred = convert_awal(dfori, df2, x_train, x_test, y_train, y_test,\n",
    "                            koly, koly2, lb, scaler,\n",
    "                            y_pred=pred_train, pertumbuhan=pert)\n",
    "# test\n",
    "asliTs,prediksiTs,\\\n",
    "nilaiRmseTs, nilaiMapeTs, dfte_pred = convert_awal(dfori, df2, x_train, x_test, y_train, y_test,\n",
    "                            koly, koly2, lb, scaler,\n",
    "                            y_pred=y_pred, pertumbuhan=pert)"
   ]
  },
  {
   "cell_type": "code",
   "execution_count": 147,
   "metadata": {
    "scrolled": true
   },
   "outputs": [
    {
     "data": {
      "text/plain": [
       "('EksporVolume', 'AISc+None')"
      ]
     },
     "execution_count": 147,
     "metadata": {},
     "output_type": "execute_result"
    }
   ],
   "source": [
    "# var X dan Y yang digunakan\n",
    "dfori.columns[koly2], var"
   ]
  },
  {
   "cell_type": "code",
   "execution_count": null,
   "metadata": {},
   "outputs": [],
   "source": []
  },
  {
   "cell_type": "code",
   "execution_count": null,
   "metadata": {},
   "outputs": [],
   "source": []
  },
  {
   "cell_type": "markdown",
   "metadata": {},
   "source": [
    "# Write the result\n",
    "Summary result"
   ]
  },
  {
   "cell_type": "markdown",
   "metadata": {},
   "source": [
    "## ARIMA"
   ]
  },
  {
   "cell_type": "code",
   "execution_count": 106,
   "metadata": {},
   "outputs": [
    {
     "name": "stdout",
     "output_type": "stream",
     "text": [
      "Var: AISr+None\n"
     ]
    },
    {
     "data": {
      "text/html": [
       "<div>\n",
       "<style scoped>\n",
       "    .dataframe tbody tr th:only-of-type {\n",
       "        vertical-align: middle;\n",
       "    }\n",
       "\n",
       "    .dataframe tbody tr th {\n",
       "        vertical-align: top;\n",
       "    }\n",
       "\n",
       "    .dataframe thead th {\n",
       "        text-align: right;\n",
       "    }\n",
       "</style>\n",
       "<table border=\"1\" class=\"dataframe\">\n",
       "  <thead>\n",
       "    <tr style=\"text-align: right;\">\n",
       "      <th></th>\n",
       "      <th>0</th>\n",
       "    </tr>\n",
       "  </thead>\n",
       "  <tbody>\n",
       "    <tr>\n",
       "      <th>prediksi test true</th>\n",
       "      <td>[[12.548 ]\\n [10.5349]\\n [12.1794]\\n [11.6885]...</td>\n",
       "    </tr>\n",
       "    <tr>\n",
       "      <th>RMSE train true</th>\n",
       "      <td>1.8576</td>\n",
       "    </tr>\n",
       "    <tr>\n",
       "      <th>MAPE train true</th>\n",
       "      <td>11.314</td>\n",
       "    </tr>\n",
       "    <tr>\n",
       "      <th>RMSE test true</th>\n",
       "      <td>2.4366</td>\n",
       "    </tr>\n",
       "    <tr>\n",
       "      <th>MAPE test true</th>\n",
       "      <td>12.0453</td>\n",
       "    </tr>\n",
       "  </tbody>\n",
       "</table>\n",
       "</div>"
      ],
      "text/plain": [
       "                                                                    0\n",
       "prediksi test true  [[12.548 ]\\n [10.5349]\\n [12.1794]\\n [11.6885]...\n",
       "RMSE train true                                                1.8576\n",
       "MAPE train true                                                11.314\n",
       "RMSE test true                                                 2.4366\n",
       "MAPE test true                                                12.0453"
      ]
     },
     "execution_count": 106,
     "metadata": {},
     "output_type": "execute_result"
    }
   ],
   "source": [
    "diag = reg.summary().tables[2].data\n",
    "diag_reg = {'dw':diag[0][3].replace(' ',''), #dw\n",
    "        'p_omnibus':diag[1][1].replace(' ',''), #p omnibus\n",
    "        'p_jb':diag[2][3].replace(' ','')} #p jb\n",
    "diag = model_fit.summary().tables[2].data\n",
    "diag_model = {'p_ljungbox': diag[1][1],\n",
    "              'p_jb':diag[1][3],\n",
    "              'p_heteros':diag[3][1]}\n",
    "\n",
    "result = pd.DataFrame([\n",
    "    str(dfori.columns.values),\n",
    "    str(reg.pvalues[reg.pvalues <= pval].index.values),\n",
    "    diag_reg,\n",
    "    (model_fit.model_orders['ar'],0,model_fit.model_orders['ma']),\n",
    "    str(model_fit.pvalues[model_fit.pvalues <= pval].index.values),\n",
    "    model_fit.aic,\n",
    "    model_fit.bic,\n",
    "    diag_model,\n",
    "    mean_squared_error(yttrain, yptrain, squared=False),\n",
    "    mape(yttrain, yptrain),\n",
    "    mean_squared_error(yttest, yptest, squared=False),\n",
    "    mape(yttest, yptest),\n",
    "    str(prediksiTr.values), str(prediksiTs.values),\n",
    "    nilaiRmseTr, nilaiMapeTr,\n",
    "    nilaiRmseTs, nilaiMapeTs\n",
    "], ['var', 'reg sig', 'reg diag', 'model',\n",
    "    'model sig', 'model aic', 'model bic', 'model diag',\n",
    "    'RMSE train', 'MAPE train',\n",
    "    'RMSE test', 'MAPE test',\n",
    "    'prediksi train true','prediksi test true',\n",
    "    'RMSE train true', 'MAPE train true',\n",
    "    'RMSE test true', 'MAPE test true',\n",
    "   ])\n",
    "print('Var:', str(var))\n",
    "result.tail()"
   ]
  },
  {
   "cell_type": "code",
   "execution_count": null,
   "metadata": {},
   "outputs": [],
   "source": []
  },
  {
   "cell_type": "raw",
   "metadata": {},
   "source": [
    "result.to_csv(f'OUT/ARIMA/{dfori.columns[koly2]}/result_{dfori.columns[koly2]}_{var}.csv')"
   ]
  },
  {
   "cell_type": "code",
   "execution_count": null,
   "metadata": {},
   "outputs": [],
   "source": []
  },
  {
   "cell_type": "markdown",
   "metadata": {},
   "source": [
    "## ANN"
   ]
  },
  {
   "cell_type": "code",
   "execution_count": 148,
   "metadata": {
    "scrolled": true
   },
   "outputs": [
    {
     "data": {
      "text/html": [
       "<div>\n",
       "<style scoped>\n",
       "    .dataframe tbody tr th:only-of-type {\n",
       "        vertical-align: middle;\n",
       "    }\n",
       "\n",
       "    .dataframe tbody tr th {\n",
       "        vertical-align: top;\n",
       "    }\n",
       "\n",
       "    .dataframe thead th {\n",
       "        text-align: right;\n",
       "    }\n",
       "</style>\n",
       "<table border=\"1\" class=\"dataframe\">\n",
       "  <thead>\n",
       "    <tr style=\"text-align: right;\">\n",
       "      <th></th>\n",
       "      <th>0</th>\n",
       "    </tr>\n",
       "  </thead>\n",
       "  <tbody>\n",
       "    <tr>\n",
       "      <th>prediksi test true</th>\n",
       "      <td>[[45.9059]\\n [42.8261]\\n [45.311 ]\\n [45.0569]...</td>\n",
       "    </tr>\n",
       "    <tr>\n",
       "      <th>RMSE train true</th>\n",
       "      <td>14.9873</td>\n",
       "    </tr>\n",
       "    <tr>\n",
       "      <th>MAPE train true</th>\n",
       "      <td>27.7264</td>\n",
       "    </tr>\n",
       "    <tr>\n",
       "      <th>RMSE test true</th>\n",
       "      <td>7.2011</td>\n",
       "    </tr>\n",
       "    <tr>\n",
       "      <th>MAPE test true</th>\n",
       "      <td>10.1697</td>\n",
       "    </tr>\n",
       "  </tbody>\n",
       "</table>\n",
       "</div>"
      ],
      "text/plain": [
       "                                                                    0\n",
       "prediksi test true  [[45.9059]\\n [42.8261]\\n [45.311 ]\\n [45.0569]...\n",
       "RMSE train true                                               14.9873\n",
       "MAPE train true                                               27.7264\n",
       "RMSE test true                                                 7.2011\n",
       "MAPE test true                                                10.1697"
      ]
     },
     "execution_count": 148,
     "metadata": {},
     "output_type": "execute_result"
    }
   ],
   "source": [
    "result = pd.DataFrame([\n",
    "    str(dfori.columns.values),\n",
    "    str(gen),\n",
    "    str(conv_param(gen)),\n",
    "    str(imp[imp.importance > 0].values),\n",
    "    mean_squared_error(yttrain, yptrain, squared=False),\n",
    "    mape(yttrain, yptrain),\n",
    "    mean_squared_error(yttest, yptest, squared=False),\n",
    "    mape(yttest, yptest),\n",
    "    str(prediksiTr.values), str(prediksiTs.values),\n",
    "    nilaiRmseTr, nilaiMapeTr,\n",
    "    nilaiRmseTs, nilaiMapeTs\n",
    "], ['var','gen','param','importance',\n",
    "    'RMSE train', 'MAPE train',\n",
    "    'RMSE test', 'MAPE test',\n",
    "    'prediksi train true','prediksi test true',\n",
    "    'RMSE train true', 'MAPE train true',\n",
    "    'RMSE test true', 'MAPE test true',\n",
    "   ])\n",
    "result.tail()"
   ]
  },
  {
   "cell_type": "code",
   "execution_count": 149,
   "metadata": {
    "scrolled": true
   },
   "outputs": [
    {
     "name": "stdout",
     "output_type": "stream",
     "text": [
      "DF EksporVolume\n",
      "VAR: AISc+None\n"
     ]
    },
    {
     "data": {
      "text/html": [
       "<div>\n",
       "<style scoped>\n",
       "    .dataframe tbody tr th:only-of-type {\n",
       "        vertical-align: middle;\n",
       "    }\n",
       "\n",
       "    .dataframe tbody tr th {\n",
       "        vertical-align: top;\n",
       "    }\n",
       "\n",
       "    .dataframe thead th {\n",
       "        text-align: right;\n",
       "    }\n",
       "</style>\n",
       "<table border=\"1\" class=\"dataframe\">\n",
       "  <thead>\n",
       "    <tr style=\"text-align: right;\">\n",
       "      <th></th>\n",
       "      <th>gen</th>\n",
       "      <th>cost</th>\n",
       "      <th>time</th>\n",
       "      <th>param</th>\n",
       "    </tr>\n",
       "  </thead>\n",
       "  <tbody>\n",
       "    <tr>\n",
       "      <th>95</th>\n",
       "      <td>[60.42898865369087, 8.813970116907214, 68.8366...</td>\n",
       "      <td>0.3418</td>\n",
       "      <td>30.7422</td>\n",
       "      <td>{'hidden': [60, 9, 69], 'activation': 'leaky_r...</td>\n",
       "    </tr>\n",
       "    <tr>\n",
       "      <th>96</th>\n",
       "      <td>[60.42898865369087, 8.813970116907214, 68.8366...</td>\n",
       "      <td>0.3418</td>\n",
       "      <td>31.1382</td>\n",
       "      <td>{'hidden': [60, 9, 69], 'activation': 'leaky_r...</td>\n",
       "    </tr>\n",
       "    <tr>\n",
       "      <th>97</th>\n",
       "      <td>[60.42898865369087, 8.813970116907214, 68.8366...</td>\n",
       "      <td>0.3418</td>\n",
       "      <td>31.5172</td>\n",
       "      <td>{'hidden': [60, 9, 69], 'activation': 'leaky_r...</td>\n",
       "    </tr>\n",
       "    <tr>\n",
       "      <th>98</th>\n",
       "      <td>[60.42898865369087, 8.813970116907214, 68.8366...</td>\n",
       "      <td>0.3418</td>\n",
       "      <td>32.0398</td>\n",
       "      <td>{'hidden': [60, 9, 69], 'activation': 'leaky_r...</td>\n",
       "    </tr>\n",
       "    <tr>\n",
       "      <th>99</th>\n",
       "      <td>[60.42898865369087, 8.813970116907214, 68.8366...</td>\n",
       "      <td>0.3418</td>\n",
       "      <td>32.5314</td>\n",
       "      <td>{'hidden': [60, 9, 69], 'activation': 'leaky_r...</td>\n",
       "    </tr>\n",
       "  </tbody>\n",
       "</table>\n",
       "</div>"
      ],
      "text/plain": [
       "                                                  gen    cost     time  \\\n",
       "95  [60.42898865369087, 8.813970116907214, 68.8366...  0.3418  30.7422   \n",
       "96  [60.42898865369087, 8.813970116907214, 68.8366...  0.3418  31.1382   \n",
       "97  [60.42898865369087, 8.813970116907214, 68.8366...  0.3418  31.5172   \n",
       "98  [60.42898865369087, 8.813970116907214, 68.8366...  0.3418  32.0398   \n",
       "99  [60.42898865369087, 8.813970116907214, 68.8366...  0.3418  32.5314   \n",
       "\n",
       "                                                param  \n",
       "95  {'hidden': [60, 9, 69], 'activation': 'leaky_r...  \n",
       "96  {'hidden': [60, 9, 69], 'activation': 'leaky_r...  \n",
       "97  {'hidden': [60, 9, 69], 'activation': 'leaky_r...  \n",
       "98  {'hidden': [60, 9, 69], 'activation': 'leaky_r...  \n",
       "99  {'hidden': [60, 9, 69], 'activation': 'leaky_r...  "
      ]
     },
     "execution_count": 149,
     "metadata": {},
     "output_type": "execute_result"
    }
   ],
   "source": [
    "print('DF', dfori.columns[koly2])\n",
    "print('VAR:', var)\n",
    "df_cost['param'] = df_cost.gen.apply(conv_param)\n",
    "df_cost.tail()"
   ]
  },
  {
   "cell_type": "code",
   "execution_count": null,
   "metadata": {},
   "outputs": [],
   "source": []
  },
  {
   "cell_type": "raw",
   "metadata": {},
   "source": [
    "result.to_csv(f'OUT/ANN/{dfori.columns[koly2]}/result_{dfori.columns[koly2]}_{var}.csv')\n",
    "df_cost.to_csv(f'OUT/ANN/{dfori.columns[koly2]}/dfcost_{dfori.columns[koly2]}_{var}.csv') #penurunan cost tiap iter random search"
   ]
  },
  {
   "cell_type": "code",
   "execution_count": null,
   "metadata": {},
   "outputs": [],
   "source": []
  },
  {
   "cell_type": "markdown",
   "metadata": {},
   "source": [
    "# Check"
   ]
  },
  {
   "cell_type": "code",
   "execution_count": 34,
   "metadata": {},
   "outputs": [],
   "source": [
    "param = {'hidden': [75, 50, 100], 'activation': 'leaky_relu', 'learning_rate': 0.7347716734280825, 'momentum': 0.5661957671681955}\n",
    "param = {'hidden': [52, 24], 'activation': 'tanh', 'learning_rate': 0.21021661690615456, 'momentum': 0.4446454434393985}\n",
    "\n",
    "param = {'hidden': [62, 88, 91], 'activation': 'leaky_relu', 'learning_rate': 0.9829296565588231, 'momentum': 0.5484032058260657}"
   ]
  },
  {
   "cell_type": "code",
   "execution_count": 35,
   "metadata": {},
   "outputs": [
    {
     "data": {
      "text/plain": [
       "{'hidden': [62, 88, 91],\n",
       " 'activation': 'leaky_relu',\n",
       " 'learning_rate': 0.9829,\n",
       " 'momentum': 0.5484}"
      ]
     },
     "execution_count": 35,
     "metadata": {},
     "output_type": "execute_result"
    }
   ],
   "source": [
    "param"
   ]
  },
  {
   "cell_type": "code",
   "execution_count": 36,
   "metadata": {
    "scrolled": false
   },
   "outputs": [
    {
     "name": "stdout",
     "output_type": "stream",
     "text": [
      "0.3253686500225703\n",
      "Pred test: [0.0409 0.2594 0.1402 0.0791 0.1536]\n"
     ]
    }
   ],
   "source": [
    "# param terbaik (diconvert dari gen terbaik)\n",
    "#param = conv_param(gen)\n",
    "# train model ann\n",
    "w2, pred_train2, cost2 = ann_function(gen=False,x=x_train, y=y_train, param=param)\n",
    "# prediksi x_test dg model ann\n",
    "pred_train = np.squeeze(predict(x_train.values, w2, param['activation']))\n",
    "y_pred = np.squeeze(predict(x_test.values, w2, param['activation']))\n",
    "print(cost2)\n",
    "print('Pred test:',y_pred)"
   ]
  },
  {
   "cell_type": "code",
   "execution_count": null,
   "metadata": {},
   "outputs": [],
   "source": []
  },
  {
   "cell_type": "code",
   "execution_count": null,
   "metadata": {},
   "outputs": [],
   "source": [
    "# Nilai Prediksi\n",
    "round(pd.Series(prediksi*1000),2)"
   ]
  },
  {
   "cell_type": "code",
   "execution_count": null,
   "metadata": {},
   "outputs": [],
   "source": [
    "# Permutation importance\n",
    "par_w_act = {'weight':w2, 'activation':param['activation']}\n",
    "imp = permutation_importance(x_test, y_test, df2.columns[:-1], model=nn_model, dict_param=par_w_act, n=50)\n",
    "#imp = permutation_importance(x_train, y_train, df2.columns[:-1], model=gann)\n",
    "# nilai importance\n",
    "#imp"
   ]
  },
  {
   "cell_type": "code",
   "execution_count": null,
   "metadata": {},
   "outputs": [],
   "source": []
  },
  {
   "cell_type": "markdown",
   "metadata": {},
   "source": [
    "# Read generated summary data"
   ]
  },
  {
   "cell_type": "markdown",
   "metadata": {},
   "source": [
    "Kolom di summary data ARIMA n ANN\n",
    "\n",
    "- Data ARIMA:\n",
    "```\n",
    "['var', 'reg sig', 'reg diag', 'model',\n",
    "    'model sig', 'model aic', 'model bic', 'model diag',\n",
    "    'RMSE train', 'MAPE train',\n",
    "    'RMSE test', 'MAPE test',\n",
    "    'prediksi train true','prediksi test true',\n",
    "    'RMSE train true', 'MAPE train true',\n",
    "    'RMSE test true', 'MAPE test true']\n",
    "```\n",
    "- Data ANN:\n",
    "```\n",
    "['var','gen','param','importance',\n",
    "    'RMSE train', 'MAPE train',\n",
    "    'RMSE test', 'MAPE test',\n",
    "    'prediksi train true','prediksi test true',\n",
    "    'RMSE train true', 'MAPE train true',\n",
    "    'RMSE test true', 'MAPE test true']\n",
    "```"
   ]
  },
  {
   "cell_type": "code",
   "execution_count": 7,
   "metadata": {},
   "outputs": [],
   "source": [
    "data = 'EksporNilai'\n",
    "#data = 'EksporVolume'\n",
    "#data = 'ImporNilai'\n",
    "#data = 'ImporVolume'\n",
    "\n",
    "#var2 = ['RMSE train','RMSE test', 'RMSE train true','MAPE train true', 'RMSE test true','MAPE test true']\n",
    "var2 = ['RMSE test','MAPE test']\n",
    "\n",
    "kombs = ['AIS+None', 'AISf+None', 'AISs+None', 'AISc+None', 'AISr+None']"
   ]
  },
  {
   "cell_type": "raw",
   "metadata": {},
   "source": [
    "1,2,3,4: ['AISr+None','AISs+None','AIS+None','AISf+None']"
   ]
  },
  {
   "cell_type": "code",
   "execution_count": 8,
   "metadata": {},
   "outputs": [
    {
     "data": {
      "text/html": [
       "<style  type=\"text/css\" >\n",
       "#T_32fbc_row1_col1,#T_32fbc_row1_col2,#T_32fbc_row1_col3,#T_32fbc_row4_col0{\n",
       "            color:  red;\n",
       "        }</style><table id=\"T_32fbc_\" ><thead>    <tr>        <th class=\"blank level0\" ></th>        <th class=\"col_heading level0 col0\" >RMSE test</th>        <th class=\"col_heading level0 col1\" >MAPE test</th>        <th class=\"col_heading level0 col2\" >param</th>        <th class=\"col_heading level0 col3\" >var</th>    </tr>    <tr>        <th class=\"index_name level0\" >ANN_EksporNilai</th>        <th class=\"blank\" ></th>        <th class=\"blank\" ></th>        <th class=\"blank\" ></th>        <th class=\"blank\" ></th>    </tr></thead><tbody>\n",
       "                <tr>\n",
       "                        <th id=\"T_32fbc_level0_row0\" class=\"row_heading level0 row0\" >AIS+None</th>\n",
       "                        <td id=\"T_32fbc_row0_col0\" class=\"data row0 col0\" >1.2118</td>\n",
       "                        <td id=\"T_32fbc_row0_col1\" class=\"data row0 col1\" >320.6588</td>\n",
       "                        <td id=\"T_32fbc_row0_col2\" class=\"data row0 col2\" >{'hidden': [67, 48], 'activation': 'leaky_relu', 'learning_rate': 0.9467061893050145, 'momentum': 0.7707287674636406}</td>\n",
       "                        <td id=\"T_32fbc_row0_col3\" class=\"data row0 col3\" >['numVisit_CT' 'numVessel_CT' 'timeInPort_CT' 'sumDraughtDiff_pos_CT'\n",
       " 'numDraughtDiff_pos_CT' 'EksporNilai']</td>\n",
       "            </tr>\n",
       "            <tr>\n",
       "                        <th id=\"T_32fbc_level0_row1\" class=\"row_heading level0 row1\" >AISf+None</th>\n",
       "                        <td id=\"T_32fbc_row1_col0\" class=\"data row1 col0\" >0.9310</td>\n",
       "                        <td id=\"T_32fbc_row1_col1\" class=\"data row1 col1\" >189.0330</td>\n",
       "                        <td id=\"T_32fbc_row1_col2\" class=\"data row1 col2\" >{'hidden': [48, 19, 76, 76], 'activation': 'relu', 'learning_rate': 0.6268495730790289, 'momentum': 0.5187068488323934}</td>\n",
       "                        <td id=\"T_32fbc_row1_col3\" class=\"data row1 col3\" >['numVessel_CT' 'sumDraughtDiff_pos_CT' 'EksporNilai']</td>\n",
       "            </tr>\n",
       "            <tr>\n",
       "                        <th id=\"T_32fbc_level0_row2\" class=\"row_heading level0 row2\" >AISs+None</th>\n",
       "                        <td id=\"T_32fbc_row2_col0\" class=\"data row2 col0\" >1.3935</td>\n",
       "                        <td id=\"T_32fbc_row2_col1\" class=\"data row2 col1\" >329.9660</td>\n",
       "                        <td id=\"T_32fbc_row2_col2\" class=\"data row2 col2\" >{'hidden': [90, 15], 'activation': 'leaky_relu', 'learning_rate': 0.6876034414564896, 'momentum': 0.8665918633534219}</td>\n",
       "                        <td id=\"T_32fbc_row2_col3\" class=\"data row2 col3\" >['numVisit_CT' 'numVessel_CT' 'timeInPort_CT' 'EksporNilai']</td>\n",
       "            </tr>\n",
       "            <tr>\n",
       "                        <th id=\"T_32fbc_level0_row3\" class=\"row_heading level0 row3\" >AISc+None</th>\n",
       "                        <td id=\"T_32fbc_row3_col0\" class=\"data row3 col0\" >0.7950</td>\n",
       "                        <td id=\"T_32fbc_row3_col1\" class=\"data row3 col1\" >192.1103</td>\n",
       "                        <td id=\"T_32fbc_row3_col2\" class=\"data row3 col2\" >{'hidden': [51], 'activation': 'leaky_relu', 'learning_rate': 0.7339481201925963, 'momentum': 0.8597094436673043}</td>\n",
       "                        <td id=\"T_32fbc_row3_col3\" class=\"data row3 col3\" >['numVisit_CT' 'numVessel_CT' 'sumDraughtDiff_pos_CT'\n",
       " 'numDraughtDiff_pos_CT' 'EksporNilai']</td>\n",
       "            </tr>\n",
       "            <tr>\n",
       "                        <th id=\"T_32fbc_level0_row4\" class=\"row_heading level0 row4\" >AISr+None</th>\n",
       "                        <td id=\"T_32fbc_row4_col0\" class=\"data row4 col0\" >0.7852</td>\n",
       "                        <td id=\"T_32fbc_row4_col1\" class=\"data row4 col1\" >191.4499</td>\n",
       "                        <td id=\"T_32fbc_row4_col2\" class=\"data row4 col2\" >{'hidden': [75, 50, 100], 'activation': 'leaky_relu', 'learning_rate': 0.7347716734280825, 'momentum': 0.5661957671681955}</td>\n",
       "                        <td id=\"T_32fbc_row4_col3\" class=\"data row4 col3\" >['numVisit_CT' 'EksporNilai']</td>\n",
       "            </tr>\n",
       "    </tbody></table>"
      ],
      "text/plain": [
       "<pandas.io.formats.style.Styler at 0x15ce2ad5b88>"
      ]
     },
     "execution_count": 8,
     "metadata": {},
     "output_type": "execute_result"
    }
   ],
   "source": [
    "df_ann = read_result(data, 'ANN', kombs, var=var2+['param','var','prediksi test true','prediksi train true'])\n",
    "for v in var2: df_ann[v] = [round(float(i),4) for i in df_ann[v]]\n",
    "df_ann.iloc[:,:4]\\\n",
    "    .style.apply(highlight_min)"
   ]
  },
  {
   "cell_type": "code",
   "execution_count": 9,
   "metadata": {
    "scrolled": true
   },
   "outputs": [
    {
     "data": {
      "text/html": [
       "<style  type=\"text/css\" >\n",
       "#T_e6ea5_row1_col1,#T_e6ea5_row1_col2,#T_e6ea5_row4_col0,#T_e6ea5_row4_col3{\n",
       "            color:  red;\n",
       "        }</style><table id=\"T_e6ea5_\" ><thead>    <tr>        <th class=\"blank level0\" ></th>        <th class=\"col_heading level0 col0\" >RMSE test</th>        <th class=\"col_heading level0 col1\" >MAPE test</th>        <th class=\"col_heading level0 col2\" >var</th>        <th class=\"col_heading level0 col3\" >model sig</th>    </tr>    <tr>        <th class=\"index_name level0\" >ARIMA_EksporNilai</th>        <th class=\"blank\" ></th>        <th class=\"blank\" ></th>        <th class=\"blank\" ></th>        <th class=\"blank\" ></th>    </tr></thead><tbody>\n",
       "                <tr>\n",
       "                        <th id=\"T_e6ea5_level0_row0\" class=\"row_heading level0 row0\" >AIS+None</th>\n",
       "                        <td id=\"T_e6ea5_row0_col0\" class=\"data row0 col0\" >1.6388</td>\n",
       "                        <td id=\"T_e6ea5_row0_col1\" class=\"data row0 col1\" >222.8764</td>\n",
       "                        <td id=\"T_e6ea5_row0_col2\" class=\"data row0 col2\" >['numVisit_CT' 'numVessel_CT' 'timeInPort_CT' 'sumDraughtDiff_pos_CT'\n",
       " 'numDraughtDiff_pos_CT' 'EksporNilai']</td>\n",
       "                        <td id=\"T_e6ea5_row0_col3\" class=\"data row0 col3\" >['numVisit_CT' 'numVessel_CT' 'timeInPort_CT' 'ar.L1' 'ar.L2']</td>\n",
       "            </tr>\n",
       "            <tr>\n",
       "                        <th id=\"T_e6ea5_level0_row1\" class=\"row_heading level0 row1\" >AISf+None</th>\n",
       "                        <td id=\"T_e6ea5_row1_col0\" class=\"data row1 col0\" >1.4856</td>\n",
       "                        <td id=\"T_e6ea5_row1_col1\" class=\"data row1 col1\" >207.3801</td>\n",
       "                        <td id=\"T_e6ea5_row1_col2\" class=\"data row1 col2\" >['numVessel_CT' 'sumDraughtDiff_pos_CT' 'EksporNilai']</td>\n",
       "                        <td id=\"T_e6ea5_row1_col3\" class=\"data row1 col3\" >['numVessel_CT' 'sumDraughtDiff_pos_CT' 'ar.L7']</td>\n",
       "            </tr>\n",
       "            <tr>\n",
       "                        <th id=\"T_e6ea5_level0_row2\" class=\"row_heading level0 row2\" >AISs+None</th>\n",
       "                        <td id=\"T_e6ea5_row2_col0\" class=\"data row2 col0\" >1.4063</td>\n",
       "                        <td id=\"T_e6ea5_row2_col1\" class=\"data row2 col1\" >261.3194</td>\n",
       "                        <td id=\"T_e6ea5_row2_col2\" class=\"data row2 col2\" >['numVisit_CT' 'numVessel_CT' 'timeInPort_CT' 'EksporNilai']</td>\n",
       "                        <td id=\"T_e6ea5_row2_col3\" class=\"data row2 col3\" >['const' 'numVisit_CT' 'numVessel_CT' 'timeInPort_CT']</td>\n",
       "            </tr>\n",
       "            <tr>\n",
       "                        <th id=\"T_e6ea5_level0_row3\" class=\"row_heading level0 row3\" >AISc+None</th>\n",
       "                        <td id=\"T_e6ea5_row3_col0\" class=\"data row3 col0\" >1.8891</td>\n",
       "                        <td id=\"T_e6ea5_row3_col1\" class=\"data row3 col1\" >450.0597</td>\n",
       "                        <td id=\"T_e6ea5_row3_col2\" class=\"data row3 col2\" >['numVisit_CT' 'numVessel_CT' 'sumDraughtDiff_pos_CT'\n",
       " 'numDraughtDiff_pos_CT' 'EksporNilai']</td>\n",
       "                        <td id=\"T_e6ea5_row3_col3\" class=\"data row3 col3\" >['numVisit_CT' 'sumDraughtDiff_pos_CT' 'numDraughtDiff_pos_CT' 'ar.L1'\n",
       " 'ar.L8']</td>\n",
       "            </tr>\n",
       "            <tr>\n",
       "                        <th id=\"T_e6ea5_level0_row4\" class=\"row_heading level0 row4\" >AISr+None</th>\n",
       "                        <td id=\"T_e6ea5_row4_col0\" class=\"data row4 col0\" >1.2496</td>\n",
       "                        <td id=\"T_e6ea5_row4_col1\" class=\"data row4 col1\" >234.0881</td>\n",
       "                        <td id=\"T_e6ea5_row4_col2\" class=\"data row4 col2\" >['numVisit_CT' 'EksporNilai']</td>\n",
       "                        <td id=\"T_e6ea5_row4_col3\" class=\"data row4 col3\" >['const' 'numVisit_CT' 'ar.L1' 'ar.L4' 'ar.L5' 'ar.L8']</td>\n",
       "            </tr>\n",
       "    </tbody></table>"
      ],
      "text/plain": [
       "<pandas.io.formats.style.Styler at 0x15ce2adc648>"
      ]
     },
     "execution_count": 9,
     "metadata": {},
     "output_type": "execute_result"
    }
   ],
   "source": [
    "df_arima = read_result(data, 'ARIMA', kombs, var=var2+['var','model sig','model','prediksi test true','prediksi train true'])\n",
    "for v in var2: df_arima[v] = [round(float(i),4) for i in df_arima[v]]\n",
    "df_arima.iloc[:,:4]\\\n",
    "    .style.apply(highlight_min)"
   ]
  },
  {
   "cell_type": "markdown",
   "metadata": {},
   "source": [
    "## Coret "
   ]
  },
  {
   "cell_type": "code",
   "execution_count": 241,
   "metadata": {
    "scrolled": true
   },
   "outputs": [
    {
     "data": {
      "text/html": [
       "<div>\n",
       "<style scoped>\n",
       "    .dataframe tbody tr th:only-of-type {\n",
       "        vertical-align: middle;\n",
       "    }\n",
       "\n",
       "    .dataframe tbody tr th {\n",
       "        vertical-align: top;\n",
       "    }\n",
       "\n",
       "    .dataframe thead th {\n",
       "        text-align: right;\n",
       "    }\n",
       "</style>\n",
       "<table border=\"1\" class=\"dataframe\">\n",
       "  <thead>\n",
       "    <tr style=\"text-align: right;\">\n",
       "      <th></th>\n",
       "      <th>EksporNilai</th>\n",
       "      <th>EksporVolume</th>\n",
       "      <th>ImporNilai</th>\n",
       "      <th>ImporVolume</th>\n",
       "    </tr>\n",
       "    <tr>\n",
       "      <th>periode</th>\n",
       "      <th></th>\n",
       "      <th></th>\n",
       "      <th></th>\n",
       "      <th></th>\n",
       "    </tr>\n",
       "  </thead>\n",
       "  <tbody>\n",
       "    <tr>\n",
       "      <th>2020-08</th>\n",
       "      <td>13095.7810</td>\n",
       "      <td>43579.6685</td>\n",
       "      <td>10742.4078</td>\n",
       "      <td>11839.6908</td>\n",
       "    </tr>\n",
       "    <tr>\n",
       "      <th>2020-09</th>\n",
       "      <td>13960.5281</td>\n",
       "      <td>43944.1425</td>\n",
       "      <td>11570.1048</td>\n",
       "      <td>12883.2286</td>\n",
       "    </tr>\n",
       "  </tbody>\n",
       "</table>\n",
       "</div>"
      ],
      "text/plain": [
       "         EksporNilai  EksporVolume  ImporNilai  ImporVolume\n",
       "periode                                                    \n",
       "2020-08   13095.7810    43579.6685  10742.4078   11839.6908\n",
       "2020-09   13960.5281    43944.1425  11570.1048   12883.2286"
      ]
     },
     "execution_count": 241,
     "metadata": {},
     "output_type": "execute_result"
    }
   ],
   "source": [
    "dataname = '../AIS_UN/out_new.csv/out_dfx_newc.csv'\n",
    "n = 19\n",
    "d = pd.read_csv(dataname).set_index('period')\\\n",
    "    .iloc[n+1:,-4:]/1000000\n",
    "    #.iloc[0+1:n+1,-4:]/1000000\n",
    "d.index.name = 'periode'\n",
    "d.head(2)"
   ]
  },
  {
   "cell_type": "code",
   "execution_count": 60,
   "metadata": {},
   "outputs": [
    {
     "data": {
      "text/plain": [
       "<matplotlib.axes._subplots.AxesSubplot at 0x1bd0f34b1c8>"
      ]
     },
     "execution_count": 60,
     "metadata": {},
     "output_type": "execute_result"
    },
    {
     "data": {
      "image/png": "[encoded data removed]",
      "text/plain": [
       "<Figure size 720x288 with 1 Axes>"
      ]
     },
     "metadata": {
      "needs_background": "light"
     },
     "output_type": "display_data"
    }
   ],
   "source": [
    "# SINGLE\n",
    "# TEST\n",
    "import json\n",
    "ann = json.loads(df_ann['prediksi test true'][4].replace('\\n',','))\n",
    "arima = json.loads(df_arima['prediksi test true'][1].replace('\\n',','))\n",
    "pd.DataFrame([\n",
    "    pd.Series(np.squeeze(ann)*1000),\n",
    "    pd.Series(np.squeeze(arima)*1000),\n",
    "    d[data].reset_index(drop=True),\n",
    "], ['ANN','ARIMA',d[data].name]).T.plot(figsize=(10,4))"
   ]
  },
  {
   "cell_type": "code",
   "execution_count": 113,
   "metadata": {},
   "outputs": [
    {
     "name": "stdout",
     "output_type": "stream",
     "text": [
      "param AISr+None\n"
     ]
    },
    {
     "data": {
      "text/html": [
       "<div>\n",
       "<style scoped>\n",
       "    .dataframe tbody tr th:only-of-type {\n",
       "        vertical-align: middle;\n",
       "    }\n",
       "\n",
       "    .dataframe tbody tr th {\n",
       "        vertical-align: top;\n",
       "    }\n",
       "\n",
       "    .dataframe thead th {\n",
       "        text-align: right;\n",
       "    }\n",
       "</style>\n",
       "<table border=\"1\" class=\"dataframe\">\n",
       "  <thead>\n",
       "    <tr style=\"text-align: right;\">\n",
       "      <th></th>\n",
       "      <th>RMSE train</th>\n",
       "      <th>RMSE test</th>\n",
       "      <th>RMSE train true</th>\n",
       "      <th>RMSE test true</th>\n",
       "      <th>param</th>\n",
       "    </tr>\n",
       "    <tr>\n",
       "      <th>ANN_EksporNilai</th>\n",
       "      <th></th>\n",
       "      <th></th>\n",
       "      <th></th>\n",
       "      <th></th>\n",
       "      <th></th>\n",
       "    </tr>\n",
       "  </thead>\n",
       "  <tbody>\n",
       "    <tr>\n",
       "      <th>AISr+None</th>\n",
       "      <td>0.7222745371524598</td>\n",
       "      <td>0.78519609807039</td>\n",
       "      <td>1.5996387758417954</td>\n",
       "      <td>1.2449274423960957</td>\n",
       "      <td>{'hidden': [75, 50, 100], 'activation': 'leaky...</td>\n",
       "    </tr>\n",
       "  </tbody>\n",
       "</table>\n",
       "</div>"
      ],
      "text/plain": [
       "                         RMSE train         RMSE test     RMSE train true  \\\n",
       "ANN_EksporNilai                                                             \n",
       "AISr+None        0.7222745371524598  0.78519609807039  1.5996387758417954   \n",
       "\n",
       "                     RMSE test true  \\\n",
       "ANN_EksporNilai                       \n",
       "AISr+None        1.2449274423960957   \n",
       "\n",
       "                                                             param  \n",
       "ANN_EksporNilai                                                     \n",
       "AISr+None        {'hidden': [75, 50, 100], 'activation': 'leaky...  "
      ]
     },
     "execution_count": 113,
     "metadata": {},
     "output_type": "execute_result"
    }
   ],
   "source": [
    "print(n,j)\n",
    "dread\n",
    "read_result(i, namamodel, [j], var=var2+[n])"
   ]
  },
  {
   "cell_type": "code",
   "execution_count": 287,
   "metadata": {},
   "outputs": [
    {
     "data": {
      "text/html": [
       "<div>\n",
       "<style scoped>\n",
       "    .dataframe tbody tr th:only-of-type {\n",
       "        vertical-align: middle;\n",
       "    }\n",
       "\n",
       "    .dataframe tbody tr th {\n",
       "        vertical-align: top;\n",
       "    }\n",
       "\n",
       "    .dataframe thead th {\n",
       "        text-align: right;\n",
       "    }\n",
       "</style>\n",
       "<table border=\"1\" class=\"dataframe\">\n",
       "  <thead>\n",
       "    <tr style=\"text-align: right;\">\n",
       "      <th></th>\n",
       "      <th>EksporNilai</th>\n",
       "      <th>EksporVolume</th>\n",
       "      <th>ImporNilai</th>\n",
       "      <th>ImporVolume</th>\n",
       "      <th>Prediksi EksporNilai</th>\n",
       "      <th>Prediksi EksporVolume</th>\n",
       "      <th>Prediksi ImporNilai</th>\n",
       "      <th>Prediksi ImporVolume</th>\n",
       "    </tr>\n",
       "    <tr>\n",
       "      <th>periode</th>\n",
       "      <th></th>\n",
       "      <th></th>\n",
       "      <th></th>\n",
       "      <th></th>\n",
       "      <th></th>\n",
       "      <th></th>\n",
       "      <th></th>\n",
       "      <th></th>\n",
       "    </tr>\n",
       "  </thead>\n",
       "  <tbody>\n",
       "    <tr>\n",
       "      <th>2020-08</th>\n",
       "      <td>13095.7810</td>\n",
       "      <td>43579.6685</td>\n",
       "      <td>10742.4078</td>\n",
       "      <td>11839.6908</td>\n",
       "      <td>13775.2</td>\n",
       "      <td>47571.9</td>\n",
       "      <td>11279.7</td>\n",
       "      <td>11384.4</td>\n",
       "    </tr>\n",
       "    <tr>\n",
       "      <th>2020-09</th>\n",
       "      <td>13960.5281</td>\n",
       "      <td>43944.1425</td>\n",
       "      <td>11570.1048</td>\n",
       "      <td>12883.2286</td>\n",
       "      <td>13204.4</td>\n",
       "      <td>45504.0</td>\n",
       "      <td>12777.2</td>\n",
       "      <td>11830.1</td>\n",
       "    </tr>\n",
       "    <tr>\n",
       "      <th>2020-10</th>\n",
       "      <td>14362.2426</td>\n",
       "      <td>47217.6795</td>\n",
       "      <td>10786.0167</td>\n",
       "      <td>12091.5465</td>\n",
       "      <td>14833.9</td>\n",
       "      <td>49556.9</td>\n",
       "      <td>10509.3</td>\n",
       "      <td>12075.2</td>\n",
       "    </tr>\n",
       "    <tr>\n",
       "      <th>2020-11</th>\n",
       "      <td>15259.3172</td>\n",
       "      <td>53282.4614</td>\n",
       "      <td>12664.4142</td>\n",
       "      <td>12137.1496</td>\n",
       "      <td>14722.4</td>\n",
       "      <td>49779.7</td>\n",
       "      <td>12459.4</td>\n",
       "      <td>12211.6</td>\n",
       "    </tr>\n",
       "    <tr>\n",
       "      <th>2020-12</th>\n",
       "      <td>16538.3107</td>\n",
       "      <td>57324.0164</td>\n",
       "      <td>14438.3761</td>\n",
       "      <td>15330.6694</td>\n",
       "      <td>14047.3</td>\n",
       "      <td>47504.8</td>\n",
       "      <td>10075.0</td>\n",
       "      <td>12489.9</td>\n",
       "    </tr>\n",
       "  </tbody>\n",
       "</table>\n",
       "</div>"
      ],
      "text/plain": [
       "         EksporNilai  EksporVolume  ImporNilai  ImporVolume  \\\n",
       "periode                                                       \n",
       "2020-08   13095.7810    43579.6685  10742.4078   11839.6908   \n",
       "2020-09   13960.5281    43944.1425  11570.1048   12883.2286   \n",
       "2020-10   14362.2426    47217.6795  10786.0167   12091.5465   \n",
       "2020-11   15259.3172    53282.4614  12664.4142   12137.1496   \n",
       "2020-12   16538.3107    57324.0164  14438.3761   15330.6694   \n",
       "\n",
       "         Prediksi EksporNilai  Prediksi EksporVolume  Prediksi ImporNilai  \\\n",
       "periode                                                                     \n",
       "2020-08               13775.2                47571.9              11279.7   \n",
       "2020-09               13204.4                45504.0              12777.2   \n",
       "2020-10               14833.9                49556.9              10509.3   \n",
       "2020-11               14722.4                49779.7              12459.4   \n",
       "2020-12               14047.3                47504.8              10075.0   \n",
       "\n",
       "         Prediksi ImporVolume  \n",
       "periode                        \n",
       "2020-08               11384.4  \n",
       "2020-09               11830.1  \n",
       "2020-10               12075.2  \n",
       "2020-11               12211.6  \n",
       "2020-12               12489.9  "
      ]
     },
     "execution_count": 287,
     "metadata": {},
     "output_type": "execute_result"
    }
   ],
   "source": [
    "import json\n",
    "#print(data)\n",
    "# MULTI\n",
    "col = 0\n",
    "for i,j in zip(['EksporNilai','EksporVolume','ImporNilai','ImporVolume'],\n",
    "               ['AISr+None','AISs+None','AIS+None','AISf+None']):\n",
    "               #['AISr+None','AISc+None','AISc+None','AISf+None']):\n",
    "    namamodel = 'ANN' if col!=2 else 'ARIMA'\n",
    "    dread = read_result(i, namamodel, [j], var=var2+['prediksi test true'])\n",
    "    p = json.loads( dread['prediksi test true'][j]\\\n",
    "               .replace('\\n',',') )\n",
    "    p = np.squeeze(p)*1000\n",
    "    d['Prediksi '+d.columns[col]] = p\n",
    "    col += 1\n",
    "#p\n",
    "d\n",
    "#df_ann['prediksi test true']['AIS+None']\\\n",
    "#    .replace('[','').replace(']','').split()"
   ]
  },
  {
   "cell_type": "code",
   "execution_count": 102,
   "metadata": {},
   "outputs": [
    {
     "data": {
      "image/png": "[encoded data removed]",
      "text/plain": [
       "<Figure size 720x360 with 4 Axes>"
      ]
     },
     "metadata": {
      "needs_background": "light"
     },
     "output_type": "display_data"
    }
   ],
   "source": [
    "d = pd.read_csv('z_test.csv').set_index('periode')/1000\n",
    "d.columns = l[:-4]\n",
    "d.iloc[:,[0,4]]\n",
    "\n",
    "fig, ax = plt.subplots(nrows=2, ncols=2, figsize=(10,5))\n",
    "j = -1\n",
    "for row in ax:\n",
    "    for col in row:\n",
    "        j+=1\n",
    "    #for j in range(0,2):\n",
    "        #col.plot(x, y)\n",
    "        d.iloc[:,[j,j+4]].plot(ax=col)\n",
    "        \n",
    "#df1.plot(ax=ax[0,0])\n",
    "#df2.plot(ax=ax[0,1])\n",
    "\n",
    "plt.show()"
   ]
  },
  {
   "cell_type": "code",
   "execution_count": 80,
   "metadata": {},
   "outputs": [
    {
     "data": {
      "image/png": "[encoded data removed]",
      "text/plain": [
       "<Figure size 720x360 with 4 Axes>"
      ]
     },
     "metadata": {
      "needs_background": "light"
     },
     "output_type": "display_data"
    }
   ],
   "source": [
    "d = pd.read_csv('z_test_before.csv').set_index('periode')/1000\n",
    "d.iloc[:,[0,4]]\n",
    "\n",
    "fig, ax = plt.subplots(nrows=2, ncols=2, figsize=(10,5))\n",
    "j = -1\n",
    "for row in ax:\n",
    "    for col in row:\n",
    "        j+=1\n",
    "    #for j in range(0,2):\n",
    "        #col.plot(x, y)\n",
    "        d.iloc[:,[j,j+4]].plot(ax=col)\n",
    "        \n",
    "#df1.plot(ax=ax[0,0])\n",
    "#df2.plot(ax=ax[0,1])\n",
    "\n",
    "plt.show()"
   ]
  },
  {
   "cell_type": "code",
   "execution_count": 582,
   "metadata": {},
   "outputs": [
    {
     "data": {
      "text/plain": [
       "<matplotlib.axes._subplots.AxesSubplot at 0x1ccb4a2f988>"
      ]
     },
     "execution_count": 582,
     "metadata": {},
     "output_type": "execute_result"
    },
    {
     "data": {
      "image/png": "[encoded data removed]",
      "text/plain": [
       "<Figure size 720x216 with 1 Axes>"
      ]
     },
     "metadata": {
      "needs_background": "light"
     },
     "output_type": "display_data"
    }
   ],
   "source": [
    "# SINGLE 2\n",
    "dd = d[[data]]\n",
    "dd['Prediksi'] = p\n",
    "dd.plot(figsize = (10,3))"
   ]
  },
  {
   "cell_type": "code",
   "execution_count": null,
   "metadata": {},
   "outputs": [],
   "source": []
  },
  {
   "cell_type": "code",
   "execution_count": null,
   "metadata": {},
   "outputs": [],
   "source": []
  },
  {
   "cell_type": "markdown",
   "metadata": {},
   "source": [
    "# Stepwise select"
   ]
  },
  {
   "cell_type": "code",
   "execution_count": 29,
   "metadata": {},
   "outputs": [],
   "source": [
    "def stepwise_selection_bic(X, y, \n",
    "                       initial_list=[], \n",
    "                       threshold_in=0, \n",
    "                       threshold_out = 0, \n",
    "                       verbose=True):\n",
    "    included = list(initial_list)\n",
    "    model = sm.OLS(y, sm.add_constant(pd.DataFrame(X))).fit()\n",
    "    best_bic_old = model.bic#100\n",
    "    while True:\n",
    "        changed=False\n",
    "        # forward step\n",
    "        excluded = list(set(X.columns)-set(included))\n",
    "        new_bic = pd.Series(index=excluded)\n",
    "        for new_column in excluded:\n",
    "            model = sm.OLS(y, sm.add_constant(pd.DataFrame(X[included+[new_column]]))).fit()\n",
    "            new_bic[new_column] = model.bic#[new_column]\n",
    "        best_bic = new_bic.min()\n",
    "        if ((best_bic_old - best_bic) > threshold_in):\n",
    "            best_feature = new_bic.idxmin()\n",
    "            included.append(best_feature)\n",
    "            changed=True\n",
    "            if verbose:\n",
    "                print('Add  {:20} with bic improv {:.6}'.format(best_feature, (best_bic_old - best_bic)))\n",
    "            best_bic_old = best_bic\n",
    "            \n",
    "        # backward step\n",
    "        #if not changed : break\n",
    "        #else: continue \n",
    "            \n",
    "        model = sm.OLS(y, sm.add_constant(pd.DataFrame(X[included]))).fit()\n",
    "        # use all coefs except intercept\n",
    "        #pvalues = model.pvalues.iloc[1:]\n",
    "        bic_old = model.bic\n",
    "        new_bic = pd.Series(bic_old, index=included)\n",
    "        for column in included:\n",
    "            removed = list(set(included)-set([column]))\n",
    "            model = sm.OLS(y, sm.add_constant(pd.DataFrame(X[removed]))).fit()\n",
    "            new_bic[column] = model.bic\n",
    "        worst_bic = new_bic.max() # null if pvalues is empty\n",
    "        #print(new_bic, bic_old)\n",
    "        if ((bic_old - worst_bic) > threshold_out):\n",
    "            changed=True\n",
    "            worst_feature = new_bic.idxmax()\n",
    "            included.remove(worst_feature)\n",
    "            if verbose:\n",
    "                print('Drop {:20} with bic improv {:.6}'.format(worst_feature, (bic_old - worst_bic)))\n",
    "        if not changed:\n",
    "            break\n",
    "    return included"
   ]
  },
  {
   "cell_type": "code",
   "execution_count": 30,
   "metadata": {},
   "outputs": [
    {
     "name": "stdout",
     "output_type": "stream",
     "text": [
      "Add  numVisit_CT          with bic improv 9.56211\n"
     ]
    }
   ],
   "source": [
    "# Stepwise select based on bic\n",
    "result = stepwise_selection_bic(df2.iloc[:,:koly2], df2.iloc[:,koly2],\n",
    "                           threshold_in = -0.5, threshold_out = 5)"
   ]
  },
  {
   "cell_type": "code",
   "execution_count": 15,
   "metadata": {},
   "outputs": [
    {
     "data": {
      "text/plain": [
       "['numVisit_CT']"
      ]
     },
     "execution_count": 15,
     "metadata": {},
     "output_type": "execute_result"
    }
   ],
   "source": [
    "result"
   ]
  }
 ],
 "metadata": {
  "kernelspec": {
   "display_name": "Python 3",
   "language": "python",
   "name": "python3"
  },
  "language_info": {
   "codemirror_mode": {
    "name": "ipython",
    "version": 3
   },
   "file_extension": ".py",
   "mimetype": "text/x-python",
   "name": "python",
   "nbconvert_exporter": "python",
   "pygments_lexer": "ipython3",
   "version": "3.7.6"
  },
  "toc": {
   "base_numbering": 1,
   "nav_menu": {},
   "number_sections": true,
   "sideBar": true,
   "skip_h1_title": false,
   "title_cell": "Table of Contents",
   "title_sidebar": "Contents",
   "toc_cell": false,
   "toc_position": {
    "height": "calc(100% - 180px)",
    "left": "10px",
    "top": "150px",
    "width": "234.4px"
   },
   "toc_section_display": true,
   "toc_window_display": true
  }
 },
 "nbformat": 4,
 "nbformat_minor": 4
}
