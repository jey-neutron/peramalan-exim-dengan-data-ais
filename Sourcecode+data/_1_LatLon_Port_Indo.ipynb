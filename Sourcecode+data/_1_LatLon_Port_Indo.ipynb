{
 "cells": [
  {
   "cell_type": "markdown",
   "metadata": {},
   "source": [
    "# Get Lat Lon Port Indo\n",
    "Mendapatkan data port Indonesia beserta koordinat pusatnya (latitude & longitude) dari web https://msi.nga.mil/\n",
    "\n",
    "Pertama, mengimpor beberapa fungsi dari library di chunk di bawah"
   ]
  },
  {
   "cell_type": "code",
   "execution_count": 15,
   "metadata": {},
   "outputs": [],
   "source": [
    "#lib\n",
    "import time          #time\n",
    "import re            #replace string\n",
    "import pandas as pd  #data manipulation\n",
    "from dms2dec.dms_convert import dms2dec #convert coordinate type\n",
    "from urllib.parse import urljoin        #convert relative url to abs url\n",
    "from csv import writer                  #write to csv\n",
    "#scraping library\n",
    "from fake_useragent import UserAgent    #fake useragent\n",
    "from bs4 import BeautifulSoup           #pull data from html\n",
    "#library selenium for scraping 2\n",
    "from selenium import webdriver\n",
    "from selenium.webdriver.firefox.options import Options"
   ]
  },
  {
   "cell_type": "markdown",
   "metadata": {},
   "source": [
    "## Beberapa Function\n",
    "Fungsi buka_browser berfungsi untuk membuka browser secara otomatis dan go to web dari link yang diberikan. Browser yang dipakai adalah Firefox. UserAgent digunakan untuk memalsukan user agent agar tidak diblok saat melakukan scraping."
   ]
  },
  {
   "cell_type": "code",
   "execution_count": 16,
   "metadata": {},
   "outputs": [],
   "source": [
    "def buka_browser(link):\n",
    "    '''Membuka browser secara otomatis dan go to web dari link yang diberikan'''\n",
    "    # FAKE USER AGENT\n",
    "    ua = UserAgent()\n",
    "    user_agent = ua.chrome\n",
    "    print('User_agent:', user_agent)\n",
    "    profile = webdriver.FirefoxProfile()\n",
    "    profile.set_preference(\"general.useragent.override\", user_agent)\n",
    "\n",
    "    # HEADLESS FIREFOX\n",
    "    opts = Options()\n",
    "    #opts.headless = True\n",
    "    #assert opts.headless\n",
    "\n",
    "    # GO TO WEB\n",
    "    print('Status: Membuka Firefox')\n",
    "    driver = webdriver.Firefox(executable_path='C:/Users/asus/Documents/Skripsi/geckodriver.exe', firefox_profile=profile, options = opts)\n",
    "    print('Status: Membuka website')\n",
    "    driver.get(link)\n",
    "    print('Status: Sudah buka, menunggu')\n",
    "    \n",
    "    return(driver)"
   ]
  },
  {
   "cell_type": "code",
   "execution_count": 17,
   "metadata": {},
   "outputs": [],
   "source": [
    "def tambah_data_row(nama_file, list_isi):\n",
    "    '''Menambah data ke file csv'''\n",
    "    # buka file dalam mode append\n",
    "    with open(nama_file, 'a+', newline='') as file:\n",
    "        # membuat modul writer dari lib\n",
    "        csv_writer = writer(file)\n",
    "        # add isi pada baris terakhir data\n",
    "        csv_writer.writerow(list_isi)"
   ]
  },
  {
   "cell_type": "markdown",
   "metadata": {},
   "source": [
    "## Exekusi\n",
    "Mengimplementasikan fungsi di atas untuk mengambil data dari web. Pertama, membuka browser dan menuju link https://msi.nga.mil/ yang memuat daftar port Indonesia."
   ]
  },
  {
   "cell_type": "code",
   "execution_count": 18,
   "metadata": {},
   "outputs": [
    {
     "name": "stdout",
     "output_type": "stream",
     "text": [
      "User_agent: Mozilla/5.0 (Windows NT 6.2; WOW64) AppleWebKit/537.36 (KHTML like Gecko) Chrome/44.0.2403.155 Safari/537.36\n",
      "Status: Membuka Firefox\n",
      "Status: Membuka website\n",
      "Status: Sudah buka, menunggu\n"
     ]
    }
   ],
   "source": [
    "# open driver n open web\n",
    "link = 'https://msi.nga.mil/queryResults?publications/world-port-index?countryName=Indonesia&output=html'\n",
    "driver = buka_browser(link)\n",
    "time.sleep(10)"
   ]
  },
  {
   "cell_type": "markdown",
   "metadata": {},
   "source": [
    "Proses kedua, yaitu mengambil data di page html yang terbuka. Page html yang terbuka memuat daftar port Indonesia yang berbentuk link. Apabila dikunjungi, maka akan menampilkan detail informasi tentang port tersebut."
   ]
  },
  {
   "cell_type": "code",
   "execution_count": 19,
   "metadata": {},
   "outputs": [],
   "source": [
    "start_url = \"https://msi.nga.mil/\"\n",
    "# konversi ke soup object\n",
    "soup_page = BeautifulSoup(driver.page_source, 'lxml')\n",
    "# dapetin isi tabel\n",
    "tbl = soup_page.find('table', class_='port')\n",
    "# dapetin link masing-masing port dalam tabel\n",
    "a_tags = tbl.find_all('a')\n",
    "links = [urljoin(start_url, a['href'])for a in a_tags]  # convert relative url to absolute url\n",
    "#print(links)"
   ]
  },
  {
   "cell_type": "markdown",
   "metadata": {},
   "source": [
    "Setelah link port didapatkan, maka satu per satu driver akan mengunjungi link tersebut untuk mengekstrak informasi detail suatu port. Informasi yang diambil yaitu:\n",
    "- Nama port\n",
    "- Nomor port\n",
    "- Koordinat yang meliputi latitude dan longitude"
   ]
  },
  {
   "cell_type": "code",
   "execution_count": null,
   "metadata": {},
   "outputs": [],
   "source": [
    "all_data = []\n",
    "i=1\n",
    "# click semua link\n",
    "for link in links:\n",
    "    # menuju page per link\n",
    "    driver.get(link)\n",
    "    time.sleep(7)\n",
    "    \n",
    "    # load page\n",
    "    link_page = BeautifulSoup(driver.page_source, 'lxml')\n",
    "    # PORT\n",
    "    port = link_page.find_all('td', class_='case-capitalize')[1]\n",
    "    ## port name\n",
    "    port_name = port.find('b').text\n",
    "    ## port no\n",
    "    a,b,c = port.text.partition('No. ')\n",
    "    port_no = re.sub(r'\\([^)]*\\)','',c)\n",
    "    # COORDINATE\n",
    "    td = link_page.find_all('td', class_='port')\n",
    "    ## lat\n",
    "    port_lat = re.sub('Latitude: ','',td[1].text)\n",
    "    ## lon\n",
    "    port_lon = re.sub('Longitude: ','',td[3].text)\n",
    "    \n",
    "    # masukin ke file csv\n",
    "    #print(port_name)\n",
    "    tambah_data_row('port.csv',[port_no, port_name, port_lat, port_lon])"
   ]
  },
  {
   "cell_type": "code",
   "execution_count": 21,
   "metadata": {},
   "outputs": [],
   "source": [
    "# Quit driver ketika selesai mengambil data\n",
    "driver.quit()"
   ]
  },
  {
   "cell_type": "markdown",
   "metadata": {},
   "source": [
    "# Preproses Data\n",
    "Data yang telah diambil akan dilakukan beberapa penyesuaian, yaitu konversi koordinat DDM (Decimal Minute) ke koordinate DD (Decimal Degree)"
   ]
  },
  {
   "cell_type": "code",
   "execution_count": 9,
   "metadata": {
    "scrolled": true
   },
   "outputs": [
    {
     "name": "stdout",
     "output_type": "stream",
     "text": [
      "Jumlah data:  123\n"
     ]
    },
    {
     "data": {
      "text/html": [
       "<div>\n",
       "<style scoped>\n",
       "    .dataframe tbody tr th:only-of-type {\n",
       "        vertical-align: middle;\n",
       "    }\n",
       "\n",
       "    .dataframe tbody tr th {\n",
       "        vertical-align: top;\n",
       "    }\n",
       "\n",
       "    .dataframe thead th {\n",
       "        text-align: right;\n",
       "    }\n",
       "</style>\n",
       "<table border=\"1\" class=\"dataframe\">\n",
       "  <thead>\n",
       "    <tr style=\"text-align: right;\">\n",
       "      <th></th>\n",
       "      <th>no</th>\n",
       "      <th>name</th>\n",
       "      <th>lat_ddm</th>\n",
       "      <th>lon_ddm</th>\n",
       "    </tr>\n",
       "  </thead>\n",
       "  <tbody>\n",
       "    <tr>\n",
       "      <th>0</th>\n",
       "      <td>53115</td>\n",
       "      <td>AMAMAPARE</td>\n",
       "      <td>4° 49' S</td>\n",
       "      <td>136° 58' E</td>\n",
       "    </tr>\n",
       "    <tr>\n",
       "      <th>1</th>\n",
       "      <td>52720</td>\n",
       "      <td>AMBON</td>\n",
       "      <td>3° 41' S</td>\n",
       "      <td>128° 10' E</td>\n",
       "    </tr>\n",
       "    <tr>\n",
       "      <th>2</th>\n",
       "      <td>51280</td>\n",
       "      <td>AMPENAN</td>\n",
       "      <td>8° 34' S</td>\n",
       "      <td>116° 4' E</td>\n",
       "    </tr>\n",
       "    <tr>\n",
       "      <th>3</th>\n",
       "      <td>50930</td>\n",
       "      <td>ANYER LOR</td>\n",
       "      <td>6° 3' S</td>\n",
       "      <td>105° 55' E</td>\n",
       "    </tr>\n",
       "    <tr>\n",
       "      <th>4</th>\n",
       "      <td>50340</td>\n",
       "      <td>ARDJUNA OIL FIELD</td>\n",
       "      <td>5° 53' S</td>\n",
       "      <td>107° 43' E</td>\n",
       "    </tr>\n",
       "  </tbody>\n",
       "</table>\n",
       "</div>"
      ],
      "text/plain": [
       "      no               name   lat_ddm     lon_ddm\n",
       "0  53115          AMAMAPARE  4° 49' S  136° 58' E\n",
       "1  52720              AMBON  3° 41' S  128° 10' E\n",
       "2  51280            AMPENAN  8° 34' S   116° 4' E\n",
       "3  50930          ANYER LOR   6° 3' S  105° 55' E\n",
       "4  50340  ARDJUNA OIL FIELD  5° 53' S  107° 43' E"
      ]
     },
     "execution_count": 9,
     "metadata": {},
     "output_type": "execute_result"
    }
   ],
   "source": [
    "# Read data\n",
    "df = pd.read_csv('port-raw.csv',encoding=\"ISO-8859-1\", names=['no','name','lat_ddm','lon_ddm'])\n",
    "print('Jumlah data: ',len(df))\n",
    "df.head()"
   ]
  },
  {
   "cell_type": "markdown",
   "metadata": {},
   "source": [
    "## Convert latlon (DDM to DD)\n",
    "\n",
    "Use this package <br>\n",
    "`dms2dec('''36°44'47.69\"N''') #converts to dec`\n",
    "\n",
    "Contoh hasil convert <br/>\n",
    "`Jakarta, lat: 6° 6' S, lon: 106° 53' E` <br/>\n",
    "Berubah jadi <br/>\n",
    "`Jakarta, lat: -6.1, lon: 106.88333`"
   ]
  },
  {
   "cell_type": "code",
   "execution_count": 97,
   "metadata": {},
   "outputs": [
    {
     "data": {
      "text/html": [
       "<div>\n",
       "<style scoped>\n",
       "    .dataframe tbody tr th:only-of-type {\n",
       "        vertical-align: middle;\n",
       "    }\n",
       "\n",
       "    .dataframe tbody tr th {\n",
       "        vertical-align: top;\n",
       "    }\n",
       "\n",
       "    .dataframe thead th {\n",
       "        text-align: right;\n",
       "    }\n",
       "</style>\n",
       "<table border=\"1\" class=\"dataframe\">\n",
       "  <thead>\n",
       "    <tr style=\"text-align: right;\">\n",
       "      <th></th>\n",
       "      <th>no</th>\n",
       "      <th>name</th>\n",
       "      <th>lat_ddm</th>\n",
       "      <th>lon_ddm</th>\n",
       "      <th>lat_dd</th>\n",
       "      <th>lon_dd</th>\n",
       "    </tr>\n",
       "  </thead>\n",
       "  <tbody>\n",
       "    <tr>\n",
       "      <th>0</th>\n",
       "      <td>53115</td>\n",
       "      <td>AMAMAPARE</td>\n",
       "      <td>4° 49' S</td>\n",
       "      <td>136° 58' E</td>\n",
       "      <td>-4.816667</td>\n",
       "      <td>136.966667</td>\n",
       "    </tr>\n",
       "    <tr>\n",
       "      <th>1</th>\n",
       "      <td>52720</td>\n",
       "      <td>AMBON</td>\n",
       "      <td>3° 41' S</td>\n",
       "      <td>128° 10' E</td>\n",
       "      <td>-3.683333</td>\n",
       "      <td>128.166667</td>\n",
       "    </tr>\n",
       "    <tr>\n",
       "      <th>2</th>\n",
       "      <td>51280</td>\n",
       "      <td>AMPENAN</td>\n",
       "      <td>8° 34' S</td>\n",
       "      <td>116° 4' E</td>\n",
       "      <td>-8.566667</td>\n",
       "      <td>116.066667</td>\n",
       "    </tr>\n",
       "    <tr>\n",
       "      <th>3</th>\n",
       "      <td>50930</td>\n",
       "      <td>ANYER LOR</td>\n",
       "      <td>6° 3' S</td>\n",
       "      <td>105° 55' E</td>\n",
       "      <td>-6.050000</td>\n",
       "      <td>105.916667</td>\n",
       "    </tr>\n",
       "    <tr>\n",
       "      <th>4</th>\n",
       "      <td>50340</td>\n",
       "      <td>ARDJUNA OIL FIELD</td>\n",
       "      <td>5° 53' S</td>\n",
       "      <td>107° 43' E</td>\n",
       "      <td>-5.883333</td>\n",
       "      <td>107.716667</td>\n",
       "    </tr>\n",
       "  </tbody>\n",
       "</table>\n",
       "</div>"
      ],
      "text/plain": [
       "      no               name   lat_ddm     lon_ddm    lat_dd      lon_dd\n",
       "0  53115          AMAMAPARE  4° 49' S  136° 58' E -4.816667  136.966667\n",
       "1  52720              AMBON  3° 41' S  128° 10' E -3.683333  128.166667\n",
       "2  51280            AMPENAN  8° 34' S   116° 4' E -8.566667  116.066667\n",
       "3  50930          ANYER LOR   6° 3' S  105° 55' E -6.050000  105.916667\n",
       "4  50340  ARDJUNA OIL FIELD  5° 53' S  107° 43' E -5.883333  107.716667"
      ]
     },
     "execution_count": 97,
     "metadata": {},
     "output_type": "execute_result"
    }
   ],
   "source": [
    "# Konversi latitude\n",
    "df['lat_dd'] = df.lat_ddm.apply(lambda x: dms2dec(x))\n",
    "# Konversi longitude\n",
    "df['lon_dd'] = df.lon_ddm.apply(lambda x: dms2dec(x))\n",
    "df.head()"
   ]
  },
  {
   "cell_type": "code",
   "execution_count": 10,
   "metadata": {},
   "outputs": [],
   "source": [
    "# Menyimpan data ke csv\n",
    "df.to_csv('port.csv')"
   ]
  },
  {
   "cell_type": "code",
   "execution_count": null,
   "metadata": {},
   "outputs": [],
   "source": []
  },
  {
   "cell_type": "code",
   "execution_count": null,
   "metadata": {},
   "outputs": [],
   "source": []
  },
  {
   "cell_type": "markdown",
   "metadata": {},
   "source": [
    "# Coret"
   ]
  },
  {
   "cell_type": "code",
   "execution_count": 68,
   "metadata": {},
   "outputs": [
    {
     "data": {
      "text/plain": [
       "<td class=\"port\" width=\"50%\"><b>Latitude: </b>4° 49' S</td>"
      ]
     },
     "execution_count": 68,
     "metadata": {},
     "output_type": "execute_result"
    }
   ],
   "source": [
    "link_page = BeautifulSoup(driver.page_source, 'lxml')\n",
    "a = link_page.find_all('td', class_='port')\n",
    "a[1] #lat"
   ]
  },
  {
   "cell_type": "code",
   "execution_count": 73,
   "metadata": {},
   "outputs": [
    {
     "data": {
      "text/plain": [
       "\"4° 49' S\""
      ]
     },
     "execution_count": 73,
     "metadata": {},
     "output_type": "execute_result"
    }
   ],
   "source": [
    "a[3].text #lon\n",
    "re.sub('Longitude: |Latitude: ','',a[3].text)"
   ]
  },
  {
   "cell_type": "code",
   "execution_count": 92,
   "metadata": {},
   "outputs": [
    {
     "name": "stdout",
     "output_type": "stream",
     "text": [
      "AMAMAPARE\n",
      "53115\n"
     ]
    }
   ],
   "source": [
    "port = link_page.find_all('td', class_='case-capitalize')[1]\n",
    "port_name = port.find('b').text\n",
    "print(port_name)\n",
    "a,b,c = port.text.partition('No. ')\n",
    "port_no = re.sub(r'\\([^)]*\\)','',c)\n",
    "print(port_no)"
   ]
  },
  {
   "cell_type": "code",
   "execution_count": null,
   "metadata": {},
   "outputs": [],
   "source": [
    "start_url = \"https://msi.nga.mil/\"\n",
    "get_links(start_url)\n",
    "\n",
    "a = \"queryBreakout?publications/world-port-index?indexNumber=53115&amp;output=html/\"\n",
    "print('Status: Masuk web')\n",
    "a = re.sub(r\"amp;\",'',a)\n",
    "urljoin(start_url, a)\n"
   ]
  }
 ],
 "metadata": {
  "kernelspec": {
   "display_name": "Python 3",
   "language": "python",
   "name": "python3"
  },
  "language_info": {
   "codemirror_mode": {
    "name": "ipython",
    "version": 3
   },
   "file_extension": ".py",
   "mimetype": "text/x-python",
   "name": "python",
   "nbconvert_exporter": "python",
   "pygments_lexer": "ipython3",
   "version": "3.7.6"
  },
  "toc": {
   "base_numbering": 1,
   "nav_menu": {},
   "number_sections": true,
   "sideBar": true,
   "skip_h1_title": false,
   "title_cell": "Table of Contents",
   "title_sidebar": "Contents",
   "toc_cell": false,
   "toc_position": {
    "height": "calc(100% - 180px)",
    "left": "10px",
    "top": "150px",
    "width": "230.075px"
   },
   "toc_section_display": true,
   "toc_window_display": true
  }
 },
 "nbformat": 4,
 "nbformat_minor": 4
}
